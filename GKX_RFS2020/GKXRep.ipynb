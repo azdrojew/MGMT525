{
 "cells": [
  {
   "cell_type": "code",
   "execution_count": 27,
   "id": "4930d357",
   "metadata": {},
   "outputs": [],
   "source": [
    "import wrds\n",
    "import pandas as pd\n",
    "import numpy as np\n",
    "from scipy import stats\n",
    "import scipy.linalg as la\n",
    "from scipy.integrate import quad\n",
    "from sklearn.metrics import make_scorer\n",
    "from sklearn import linear_model\n",
    "from sklearn import model_selection\n",
    "import statsmodels.api as sm\n",
    "from datetime import datetime\n",
    "import matplotlib.pyplot as plt\n",
    "from statsmodels.regression.rolling import RollingOLS\n",
    "import linearmodels as lm\n",
    "exec(open(\"/home/amz5/functionsByAnthony.py\").read()) # do whatever is in functionsByAnthony.py\n",
    "from statsmodels.iolib.summary2 import summary_col"
   ]
  },
  {
   "cell_type": "code",
   "execution_count": 28,
   "id": "01c028e4",
   "metadata": {
    "scrolled": true
   },
   "outputs": [
    {
     "name": "stdout",
     "output_type": "stream",
     "text": [
      "Enter your WRDS username [amz5]:amz5\n",
      "Enter your password:········\n",
      "WRDS recommends setting up a .pgpass file.\n",
      "You can find more info here:\n",
      "https://www.postgresql.org/docs/9.5/static/libpq-pgpass.html.\n",
      "Loading library list...\n",
      "Done\n"
     ]
    }
   ],
   "source": [
    "conn = wrds.Connection()  "
   ]
  },
  {
   "cell_type": "code",
   "execution_count": 29,
   "id": "cde8e857",
   "metadata": {},
   "outputs": [],
   "source": [
    "#Downloading monthly returns from WRDS\n",
    "mret = conn.raw_sql(\" select * from crsp.msf\"\"\")\n",
    "## Formatting date as such, merging mret to dat, adding year and month columns\n",
    "mret[\"date\"]=pd.DatetimeIndex(mret[\"date\"])"
   ]
  },
  {
   "cell_type": "code",
   "execution_count": 30,
   "id": "6a480cfb",
   "metadata": {},
   "outputs": [],
   "source": [
    "#importing characteristics, rearranging date\n",
    "dat=pd.read_csv('datashare.csv')\n",
    "dat['date'] = pd.to_datetime(dat['DATE'].astype(str), format='%Y%m%d')\n",
    "#importing GW variables and creating list of characteristic names\n",
    "gw=pd.read_csv('GoyalWelch.csv')\n",
    "charlist=pd.read_csv('characteristiclist1.csv')\n",
    "clist=charlist[\"Acronym\"].to_list()"
   ]
  },
  {
   "cell_type": "code",
   "execution_count": 31,
   "id": "2e2b2f42",
   "metadata": {},
   "outputs": [],
   "source": [
    "dat=dat.merge(mret, how='left', left_on=[\"permno\", \"date\"], right_on=[\"permno\", \"date\"])\n",
    "dat[\"year\"]=pd.DatetimeIndex(dat[\"date\"]).year\n",
    "dat[\"month\"]=pd.DatetimeIndex(dat[\"date\"]).month"
   ]
  },
  {
   "cell_type": "code",
   "execution_count": 32,
   "id": "a3a2da8f",
   "metadata": {},
   "outputs": [],
   "source": [
    "## Renaming and calculating the 8 GW variables to match what GKX use.  Merging into dat\n",
    "gw['dp']=np.log(gw[\"D12\"])-np.log(gw[\"Index\"])#1\n",
    "gw['ep']=np.log(gw[\"E12\"])-np.log(gw[\"Index\"])#2\n",
    "gw['bm']=gw[\"b/m\"]#3\n",
    "#ntis  #4\n",
    "#tbl   #5\n",
    "gw['tms']=gw[\"lty\"]-gw[\"tbl\"]#6\n",
    "gw['dfy']=gw[\"BAA\"]-gw[\"AAA\"]#7\n",
    "#svar  #8\n",
    "dat=dat.merge(gw, how='left', left_on=[\"year\", \"month\"], right_on=[\"year\", \"month\"]).rename(columns={\"ep_y\":\"ep\",\"bm_y\":\"bm\"})"
   ]
  },
  {
   "cell_type": "code",
   "execution_count": 33,
   "id": "1cc10eb9",
   "metadata": {},
   "outputs": [],
   "source": [
    "#drop any records with missing ret\n",
    "dat=dat.dropna(subset=['ret'])\n",
    "#drop any records with missing ret\n",
    "dat=dat.dropna(subset=['ret'])\n",
    "featlist=clist.copy()\n",
    "\n",
    "## Replace missing values with cross-sectional monthly median\n",
    "for f in featlist:\n",
    "    med = dat.groupby(by=[\"year\", \"month\"])[f].transform('median')\n",
    "    dat[f]=np.where(dat[f].isna(), med, dat[f])\n",
    "  #  print(f)"
   ]
  },
  {
   "cell_type": "code",
   "execution_count": 34,
   "id": "c3cb11ab",
   "metadata": {
    "scrolled": true
   },
   "outputs": [
    {
     "name": "stderr",
     "output_type": "stream",
     "text": [
      "<ipython-input-34-190ccbcbddb2>:5: PerformanceWarning: DataFrame is highly fragmented.  This is usually the result of calling `frame.insert` many times, which has poor performance.  Consider using pd.concat instead.  To get a de-fragmented frame, use `newframe = frame.copy()`\n",
      "  dat[c+\"*\"+t]=dat[c]*dat[t]\n"
     ]
    }
   ],
   "source": [
    "##Adding interactions with GW variables, and saving the names to featlist\n",
    "tlist=['dp', 'ep', 'bm', 'ntis', 'tbl', \"tms\", \"dfy\", \"svar\"]\n",
    "for c in clist:\n",
    "    for t in tlist:\n",
    "        dat[c+\"*\"+t]=dat[c]*dat[t]\n",
    "        featlist=featlist+[c+\"*\"+t]\n",
    "dat=pd.concat([dat,pd.get_dummies(dat['sic2'])], axis=1)\n",
    "featlist=featlist+pd.get_dummies(dat['sic2']).columns.tolist()"
   ]
  },
  {
   "cell_type": "code",
   "execution_count": 35,
   "id": "ed872786",
   "metadata": {},
   "outputs": [],
   "source": [
    "import sklearn.linear_model as lm# import LinearRegression\n",
    "from sklearn.model_selection import GridSearchCV\n",
    "from sklearn.metrics import mean_squared_error\n",
    "from sklearn.preprocessing import scale \n",
    "from sklearn.cross_decomposition import PLSRegression\n",
    "from itertools import product\n",
    "from sklearn.ensemble import RandomForestRegressor\n",
    "from sklearn.decomposition import PCA\n",
    "from datetime import datetime\n",
    "\n",
    "three=[\"mvel1\", \"bm\", 'mom12m']\n",
    "\n",
    "## End of data prep.  Now begins the ML\n",
    "mintsize=18\n",
    "valsize=12\n",
    "lastyear=2020\n",
    "firstyearOOS=1987\n",
    "dat=dat[dat[\"year\"]<=lastyear]\n",
    "step=5\n",
    "#range(firstyearOOS, lastyear)\n",
    "## in the below, will swap out firstyearOOS for t in loop above"
   ]
  },
  {
   "cell_type": "code",
   "execution_count": 26,
   "id": "713d6122",
   "metadata": {
    "collapsed": true
   },
   "outputs": [
    {
     "name": "stdout",
     "output_type": "stream",
     "text": [
      "1987\n",
      "Current Time = 16:24:56\n"
     ]
    },
    {
     "name": "stderr",
     "output_type": "stream",
     "text": [
      "/opt/software/Anaconda3/2021.05/lib/python3.8/site-packages/statsmodels/tsa/tsatools.py:142: FutureWarning: In a future version of pandas all arguments of concat except for the argument 'objs' will be keyword-only\n",
      "  x = pd.concat(x[::order], 1)\n",
      "/opt/software/Anaconda3/2021.05/lib/python3.8/site-packages/statsmodels/tsa/tsatools.py:142: FutureWarning: In a future version of pandas all arguments of concat except for the argument 'objs' will be keyword-only\n",
      "  x = pd.concat(x[::order], 1)\n",
      "/opt/software/Anaconda3/2021.05/lib/python3.8/site-packages/statsmodels/tsa/tsatools.py:142: FutureWarning: In a future version of pandas all arguments of concat except for the argument 'objs' will be keyword-only\n",
      "  x = pd.concat(x[::order], 1)\n"
     ]
    },
    {
     "name": "stdout",
     "output_type": "stream",
     "text": [
      "OLS-3+H:0:done\n",
      "Current Time = 16:24:59\n"
     ]
    },
    {
     "name": "stderr",
     "output_type": "stream",
     "text": [
      "/opt/software/Anaconda3/2021.05/lib/python3.8/site-packages/statsmodels/tsa/tsatools.py:142: FutureWarning: In a future version of pandas all arguments of concat except for the argument 'objs' will be keyword-only\n",
      "  x = pd.concat(x[::order], 1)\n",
      "/opt/software/Anaconda3/2021.05/lib/python3.8/site-packages/statsmodels/tsa/tsatools.py:142: FutureWarning: In a future version of pandas all arguments of concat except for the argument 'objs' will be keyword-only\n",
      "  x = pd.concat(x[::order], 1)\n"
     ]
    },
    {
     "name": "stdout",
     "output_type": "stream",
     "text": [
      "OLS-3+H:1:done\n",
      "Current Time = 16:24:59\n"
     ]
    },
    {
     "name": "stderr",
     "output_type": "stream",
     "text": [
      "/opt/software/Anaconda3/2021.05/lib/python3.8/site-packages/statsmodels/tsa/tsatools.py:142: FutureWarning: In a future version of pandas all arguments of concat except for the argument 'objs' will be keyword-only\n",
      "  x = pd.concat(x[::order], 1)\n",
      "/opt/software/Anaconda3/2021.05/lib/python3.8/site-packages/statsmodels/tsa/tsatools.py:142: FutureWarning: In a future version of pandas all arguments of concat except for the argument 'objs' will be keyword-only\n",
      "  x = pd.concat(x[::order], 1)\n"
     ]
    },
    {
     "name": "stdout",
     "output_type": "stream",
     "text": [
      "OLS-3+H:2:done\n",
      "Current Time = 16:24:59\n"
     ]
    },
    {
     "name": "stderr",
     "output_type": "stream",
     "text": [
      "/opt/software/Anaconda3/2021.05/lib/python3.8/site-packages/statsmodels/tsa/tsatools.py:142: FutureWarning: In a future version of pandas all arguments of concat except for the argument 'objs' will be keyword-only\n",
      "  x = pd.concat(x[::order], 1)\n",
      "/opt/software/Anaconda3/2021.05/lib/python3.8/site-packages/statsmodels/tsa/tsatools.py:142: FutureWarning: In a future version of pandas all arguments of concat except for the argument 'objs' will be keyword-only\n",
      "  x = pd.concat(x[::order], 1)\n"
     ]
    },
    {
     "name": "stdout",
     "output_type": "stream",
     "text": [
      "OLS-3+H:3:done\n",
      "Current Time = 16:25:01\n"
     ]
    },
    {
     "name": "stderr",
     "output_type": "stream",
     "text": [
      "/opt/software/Anaconda3/2021.05/lib/python3.8/site-packages/statsmodels/tsa/tsatools.py:142: FutureWarning: In a future version of pandas all arguments of concat except for the argument 'objs' will be keyword-only\n",
      "  x = pd.concat(x[::order], 1)\n"
     ]
    },
    {
     "name": "stdout",
     "output_type": "stream",
     "text": [
      "PLS:0:done\n",
      "Current Time = 16:27:37\n",
      "PLS:1:done\n",
      "Current Time = 16:30:13\n",
      "PLS:2:done\n",
      "Current Time = 16:32:20\n",
      "PLS:3:done\n",
      "Current Time = 16:34:50\n",
      "PLS:4:done\n",
      "Current Time = 16:37:40\n",
      "PLS:5:done\n",
      "Current Time = 16:40:09\n",
      "PLS:6:done\n",
      "Current Time = 16:43:15\n"
     ]
    },
    {
     "name": "stderr",
     "output_type": "stream",
     "text": [
      "/opt/software/Anaconda3/2021.05/lib/python3.8/site-packages/sklearn/linear_model/_coordinate_descent.py:530: ConvergenceWarning: Objective did not converge. You might want to increase the number of iterations. Duality gap: 165.282500783429, tolerance: 0.7426908104659966\n",
      "  model = cd_fast.enet_coordinate_descent(\n",
      "/opt/software/Anaconda3/2021.05/lib/python3.8/site-packages/sklearn/linear_model/_coordinate_descent.py:530: ConvergenceWarning: Objective did not converge. You might want to increase the number of iterations. Duality gap: 0.766441898346784, tolerance: 0.7426908104659966\n",
      "  model = cd_fast.enet_coordinate_descent(\n",
      "/opt/software/Anaconda3/2021.05/lib/python3.8/site-packages/sklearn/linear_model/_coordinate_descent.py:530: ConvergenceWarning: Objective did not converge. You might want to increase the number of iterations. Duality gap: 165.282500783429, tolerance: 0.7426908104659966\n",
      "  model = cd_fast.enet_coordinate_descent(\n"
     ]
    },
    {
     "name": "stdout",
     "output_type": "stream",
     "text": [
      "RF:300:done\n",
      "Current Time = 18:19:46\n",
      "RF:300:done\n",
      "Current Time = 18:21:56\n",
      "RF:300:done\n",
      "Current Time = 18:24:56\n",
      "RF:300:done\n",
      "Current Time = 18:28:52\n",
      "RF:300:done\n",
      "Current Time = 18:33:41\n",
      "RF:300:done\n",
      "Current Time = 18:39:19\n",
      "RF:300:done\n",
      "Current Time = 18:41:40\n",
      "RF:300:done\n",
      "Current Time = 18:45:43\n",
      "RF:300:done\n",
      "Current Time = 18:51:11\n",
      "RF:300:done\n",
      "Current Time = 18:58:25\n",
      "RF:300:done\n",
      "Current Time = 19:07:37\n",
      "RF:300:done\n",
      "Current Time = 19:18:18\n",
      "RF:300:done\n",
      "Current Time = 19:21:28\n",
      "RF:300:done\n",
      "Current Time = 19:27:13\n",
      "RF:300:done\n",
      "Current Time = 19:35:22\n",
      "RF:300:done\n",
      "Current Time = 19:46:44\n",
      "RF:300:done\n",
      "Current Time = 19:59:54\n",
      "RF:300:done\n",
      "Current Time = 20:15:42\n",
      "RF:300:done\n",
      "Current Time = 20:20:52\n",
      "RF:300:done\n",
      "Current Time = 20:30:45\n",
      "RF:300:done\n",
      "Current Time = 20:45:03\n",
      "RF:300:done\n",
      "Current Time = 21:03:20\n",
      "RF:300:done\n",
      "Current Time = 21:25:22\n",
      "RF:300:done\n",
      "Current Time = 21:50:26\n",
      "1992\n",
      "Current Time = 22:09:32\n"
     ]
    },
    {
     "name": "stderr",
     "output_type": "stream",
     "text": [
      "/opt/software/Anaconda3/2021.05/lib/python3.8/site-packages/statsmodels/tsa/tsatools.py:142: FutureWarning: In a future version of pandas all arguments of concat except for the argument 'objs' will be keyword-only\n",
      "  x = pd.concat(x[::order], 1)\n",
      "/opt/software/Anaconda3/2021.05/lib/python3.8/site-packages/statsmodels/tsa/tsatools.py:142: FutureWarning: In a future version of pandas all arguments of concat except for the argument 'objs' will be keyword-only\n",
      "  x = pd.concat(x[::order], 1)\n",
      "/opt/software/Anaconda3/2021.05/lib/python3.8/site-packages/statsmodels/tsa/tsatools.py:142: FutureWarning: In a future version of pandas all arguments of concat except for the argument 'objs' will be keyword-only\n",
      "  x = pd.concat(x[::order], 1)\n"
     ]
    },
    {
     "name": "stdout",
     "output_type": "stream",
     "text": [
      "OLS-3+H:0:done\n",
      "Current Time = 22:09:35\n"
     ]
    },
    {
     "name": "stderr",
     "output_type": "stream",
     "text": [
      "/opt/software/Anaconda3/2021.05/lib/python3.8/site-packages/statsmodels/tsa/tsatools.py:142: FutureWarning: In a future version of pandas all arguments of concat except for the argument 'objs' will be keyword-only\n",
      "  x = pd.concat(x[::order], 1)\n",
      "/opt/software/Anaconda3/2021.05/lib/python3.8/site-packages/statsmodels/tsa/tsatools.py:142: FutureWarning: In a future version of pandas all arguments of concat except for the argument 'objs' will be keyword-only\n",
      "  x = pd.concat(x[::order], 1)\n"
     ]
    },
    {
     "name": "stdout",
     "output_type": "stream",
     "text": [
      "OLS-3+H:1:done\n",
      "Current Time = 22:09:38\n"
     ]
    },
    {
     "name": "stderr",
     "output_type": "stream",
     "text": [
      "/opt/software/Anaconda3/2021.05/lib/python3.8/site-packages/statsmodels/tsa/tsatools.py:142: FutureWarning: In a future version of pandas all arguments of concat except for the argument 'objs' will be keyword-only\n",
      "  x = pd.concat(x[::order], 1)\n",
      "/opt/software/Anaconda3/2021.05/lib/python3.8/site-packages/statsmodels/tsa/tsatools.py:142: FutureWarning: In a future version of pandas all arguments of concat except for the argument 'objs' will be keyword-only\n",
      "  x = pd.concat(x[::order], 1)\n"
     ]
    },
    {
     "name": "stdout",
     "output_type": "stream",
     "text": [
      "OLS-3+H:2:done\n",
      "Current Time = 22:09:38\n"
     ]
    },
    {
     "name": "stderr",
     "output_type": "stream",
     "text": [
      "/opt/software/Anaconda3/2021.05/lib/python3.8/site-packages/statsmodels/tsa/tsatools.py:142: FutureWarning: In a future version of pandas all arguments of concat except for the argument 'objs' will be keyword-only\n",
      "  x = pd.concat(x[::order], 1)\n",
      "/opt/software/Anaconda3/2021.05/lib/python3.8/site-packages/statsmodels/tsa/tsatools.py:142: FutureWarning: In a future version of pandas all arguments of concat except for the argument 'objs' will be keyword-only\n",
      "  x = pd.concat(x[::order], 1)\n"
     ]
    },
    {
     "name": "stdout",
     "output_type": "stream",
     "text": [
      "OLS-3+H:3:done\n",
      "Current Time = 22:09:41\n"
     ]
    },
    {
     "name": "stderr",
     "output_type": "stream",
     "text": [
      "/opt/software/Anaconda3/2021.05/lib/python3.8/site-packages/statsmodels/tsa/tsatools.py:142: FutureWarning: In a future version of pandas all arguments of concat except for the argument 'objs' will be keyword-only\n",
      "  x = pd.concat(x[::order], 1)\n"
     ]
    },
    {
     "name": "stdout",
     "output_type": "stream",
     "text": [
      "PLS:0:done\n",
      "Current Time = 22:12:26\n",
      "PLS:1:done\n",
      "Current Time = 22:15:17\n",
      "PLS:2:done\n",
      "Current Time = 22:18:39\n",
      "PLS:3:done\n",
      "Current Time = 22:21:54\n",
      "PLS:4:done\n",
      "Current Time = 22:25:18\n",
      "PLS:5:done\n",
      "Current Time = 22:28:54\n",
      "PLS:6:done\n",
      "Current Time = 22:32:48\n"
     ]
    },
    {
     "name": "stderr",
     "output_type": "stream",
     "text": [
      "/opt/software/Anaconda3/2021.05/lib/python3.8/site-packages/sklearn/linear_model/_coordinate_descent.py:530: ConvergenceWarning: Objective did not converge. You might want to increase the number of iterations. Duality gap: 414.5075071760002, tolerance: 1.4304671649561116\n",
      "  model = cd_fast.enet_coordinate_descent(\n",
      "/opt/software/Anaconda3/2021.05/lib/python3.8/site-packages/sklearn/linear_model/_coordinate_descent.py:530: ConvergenceWarning: Objective did not converge. You might want to increase the number of iterations. Duality gap: 414.5075071760002, tolerance: 1.4304671649561116\n",
      "  model = cd_fast.enet_coordinate_descent(\n"
     ]
    },
    {
     "name": "stdout",
     "output_type": "stream",
     "text": [
      "RF:300:done\n",
      "Current Time = 00:27:03\n",
      "RF:300:done\n",
      "Current Time = 00:31:27\n",
      "RF:300:done\n",
      "Current Time = 00:38:18\n",
      "RF:300:done\n",
      "Current Time = 00:47:09\n",
      "RF:300:done\n",
      "Current Time = 00:57:42\n",
      "RF:300:done\n",
      "Current Time = 01:09:36\n",
      "RF:300:done\n",
      "Current Time = 01:14:28\n",
      "RF:300:done\n",
      "Current Time = 01:23:34\n",
      "RF:300:done\n",
      "Current Time = 01:36:10\n",
      "RF:300:done\n",
      "Current Time = 01:51:41\n",
      "RF:300:done\n",
      "Current Time = 02:11:39\n",
      "RF:300:done\n",
      "Current Time = 02:35:01\n",
      "RF:300:done\n",
      "Current Time = 02:42:03\n",
      "RF:300:done\n",
      "Current Time = 02:55:13\n",
      "RF:300:done\n",
      "Current Time = 03:14:26\n",
      "RF:300:done\n",
      "Current Time = 03:38:51\n",
      "RF:300:done\n",
      "Current Time = 04:06:45\n",
      "RF:300:done\n",
      "Current Time = 04:40:02\n",
      "RF:300:done\n",
      "Current Time = 04:49:59\n",
      "RF:300:done\n",
      "Current Time = 05:10:34\n",
      "RF:300:done\n",
      "Current Time = 05:39:25\n",
      "RF:300:done\n",
      "Current Time = 06:16:57\n",
      "RF:300:done\n",
      "Current Time = 07:00:28\n",
      "RF:300:done\n",
      "Current Time = 07:56:43\n",
      "1997\n",
      "Current Time = 08:33:53\n"
     ]
    },
    {
     "name": "stderr",
     "output_type": "stream",
     "text": [
      "/opt/software/Anaconda3/2021.05/lib/python3.8/site-packages/statsmodels/tsa/tsatools.py:142: FutureWarning: In a future version of pandas all arguments of concat except for the argument 'objs' will be keyword-only\n",
      "  x = pd.concat(x[::order], 1)\n",
      "/opt/software/Anaconda3/2021.05/lib/python3.8/site-packages/statsmodels/tsa/tsatools.py:142: FutureWarning: In a future version of pandas all arguments of concat except for the argument 'objs' will be keyword-only\n",
      "  x = pd.concat(x[::order], 1)\n",
      "/opt/software/Anaconda3/2021.05/lib/python3.8/site-packages/statsmodels/tsa/tsatools.py:142: FutureWarning: In a future version of pandas all arguments of concat except for the argument 'objs' will be keyword-only\n",
      "  x = pd.concat(x[::order], 1)\n"
     ]
    },
    {
     "name": "stdout",
     "output_type": "stream",
     "text": [
      "OLS-3+H:0:done\n",
      "Current Time = 08:33:57\n"
     ]
    },
    {
     "name": "stderr",
     "output_type": "stream",
     "text": [
      "/opt/software/Anaconda3/2021.05/lib/python3.8/site-packages/statsmodels/tsa/tsatools.py:142: FutureWarning: In a future version of pandas all arguments of concat except for the argument 'objs' will be keyword-only\n",
      "  x = pd.concat(x[::order], 1)\n",
      "/opt/software/Anaconda3/2021.05/lib/python3.8/site-packages/statsmodels/tsa/tsatools.py:142: FutureWarning: In a future version of pandas all arguments of concat except for the argument 'objs' will be keyword-only\n",
      "  x = pd.concat(x[::order], 1)\n"
     ]
    },
    {
     "name": "stdout",
     "output_type": "stream",
     "text": [
      "OLS-3+H:1:done\n",
      "Current Time = 08:34:01\n"
     ]
    },
    {
     "name": "stderr",
     "output_type": "stream",
     "text": [
      "/opt/software/Anaconda3/2021.05/lib/python3.8/site-packages/statsmodels/tsa/tsatools.py:142: FutureWarning: In a future version of pandas all arguments of concat except for the argument 'objs' will be keyword-only\n",
      "  x = pd.concat(x[::order], 1)\n",
      "/opt/software/Anaconda3/2021.05/lib/python3.8/site-packages/statsmodels/tsa/tsatools.py:142: FutureWarning: In a future version of pandas all arguments of concat except for the argument 'objs' will be keyword-only\n",
      "  x = pd.concat(x[::order], 1)\n"
     ]
    },
    {
     "name": "stdout",
     "output_type": "stream",
     "text": [
      "OLS-3+H:2:done\n",
      "Current Time = 08:34:08\n"
     ]
    },
    {
     "name": "stderr",
     "output_type": "stream",
     "text": [
      "/opt/software/Anaconda3/2021.05/lib/python3.8/site-packages/statsmodels/tsa/tsatools.py:142: FutureWarning: In a future version of pandas all arguments of concat except for the argument 'objs' will be keyword-only\n",
      "  x = pd.concat(x[::order], 1)\n",
      "/opt/software/Anaconda3/2021.05/lib/python3.8/site-packages/statsmodels/tsa/tsatools.py:142: FutureWarning: In a future version of pandas all arguments of concat except for the argument 'objs' will be keyword-only\n",
      "  x = pd.concat(x[::order], 1)\n"
     ]
    },
    {
     "name": "stdout",
     "output_type": "stream",
     "text": [
      "OLS-3+H:3:done\n",
      "Current Time = 08:34:15\n"
     ]
    },
    {
     "name": "stderr",
     "output_type": "stream",
     "text": [
      "/opt/software/Anaconda3/2021.05/lib/python3.8/site-packages/statsmodels/tsa/tsatools.py:142: FutureWarning: In a future version of pandas all arguments of concat except for the argument 'objs' will be keyword-only\n",
      "  x = pd.concat(x[::order], 1)\n"
     ]
    },
    {
     "name": "stdout",
     "output_type": "stream",
     "text": [
      "PLS:0:done\n",
      "Current Time = 08:38:31\n",
      "PLS:1:done\n",
      "Current Time = 08:42:56\n",
      "PLS:2:done\n",
      "Current Time = 08:48:01\n",
      "PLS:3:done\n",
      "Current Time = 08:53:15\n",
      "PLS:4:done\n",
      "Current Time = 08:59:00\n",
      "PLS:5:done\n",
      "Current Time = 09:04:03\n",
      "PLS:6:done\n",
      "Current Time = 09:09:52\n"
     ]
    },
    {
     "name": "stderr",
     "output_type": "stream",
     "text": [
      "/opt/software/Anaconda3/2021.05/lib/python3.8/site-packages/sklearn/linear_model/_coordinate_descent.py:530: ConvergenceWarning: Objective did not converge. You might want to increase the number of iterations. Duality gap: 2367.413459017882, tolerance: 2.2902345215498836\n",
      "  model = cd_fast.enet_coordinate_descent(\n",
      "/opt/software/Anaconda3/2021.05/lib/python3.8/site-packages/sklearn/linear_model/_coordinate_descent.py:530: ConvergenceWarning: Objective did not converge. You might want to increase the number of iterations. Duality gap: 2367.413459017882, tolerance: 2.2902345215498836\n",
      "  model = cd_fast.enet_coordinate_descent(\n"
     ]
    },
    {
     "name": "stdout",
     "output_type": "stream",
     "text": [
      "RF:300:done\n",
      "Current Time = 11:28:41\n",
      "RF:300:done\n",
      "Current Time = 11:35:01\n",
      "RF:300:done\n",
      "Current Time = 11:44:25\n",
      "RF:300:done\n",
      "Current Time = 11:57:20\n",
      "RF:300:done\n",
      "Current Time = 12:14:15\n",
      "RF:300:done\n",
      "Current Time = 12:33:30\n",
      "RF:300:done\n",
      "Current Time = 12:41:13\n",
      "RF:300:done\n",
      "Current Time = 12:55:12\n",
      "RF:300:done\n",
      "Current Time = 13:15:18\n",
      "RF:300:done\n",
      "Current Time = 13:42:13\n",
      "RF:300:done\n",
      "Current Time = 14:13:55\n",
      "RF:300:done\n",
      "Current Time = 14:50:51\n",
      "RF:300:done\n",
      "Current Time = 15:01:37\n",
      "RF:300:done\n",
      "Current Time = 15:21:57\n",
      "RF:300:done\n",
      "Current Time = 15:51:48\n",
      "RF:300:done\n",
      "Current Time = 16:29:36\n",
      "RF:300:done\n",
      "Current Time = 17:17:06\n",
      "RF:300:done\n",
      "Current Time = 18:08:25\n",
      "RF:300:done\n",
      "Current Time = 18:25:46\n",
      "RF:300:done\n",
      "Current Time = 18:59:39\n",
      "RF:300:done\n",
      "Current Time = 19:49:09\n",
      "RF:300:done\n",
      "Current Time = 20:51:52\n",
      "RF:300:done\n",
      "Current Time = 22:07:34\n",
      "RF:300:done\n",
      "Current Time = 23:30:42\n",
      "2002\n",
      "Current Time = 01:00:08\n"
     ]
    },
    {
     "name": "stderr",
     "output_type": "stream",
     "text": [
      "/opt/software/Anaconda3/2021.05/lib/python3.8/site-packages/statsmodels/tsa/tsatools.py:142: FutureWarning: In a future version of pandas all arguments of concat except for the argument 'objs' will be keyword-only\n",
      "  x = pd.concat(x[::order], 1)\n",
      "/opt/software/Anaconda3/2021.05/lib/python3.8/site-packages/statsmodels/tsa/tsatools.py:142: FutureWarning: In a future version of pandas all arguments of concat except for the argument 'objs' will be keyword-only\n",
      "  x = pd.concat(x[::order], 1)\n",
      "/opt/software/Anaconda3/2021.05/lib/python3.8/site-packages/statsmodels/tsa/tsatools.py:142: FutureWarning: In a future version of pandas all arguments of concat except for the argument 'objs' will be keyword-only\n",
      "  x = pd.concat(x[::order], 1)\n"
     ]
    },
    {
     "name": "stdout",
     "output_type": "stream",
     "text": [
      "OLS-3+H:0:done\n",
      "Current Time = 01:00:14\n"
     ]
    },
    {
     "name": "stderr",
     "output_type": "stream",
     "text": [
      "/opt/software/Anaconda3/2021.05/lib/python3.8/site-packages/statsmodels/tsa/tsatools.py:142: FutureWarning: In a future version of pandas all arguments of concat except for the argument 'objs' will be keyword-only\n",
      "  x = pd.concat(x[::order], 1)\n",
      "/opt/software/Anaconda3/2021.05/lib/python3.8/site-packages/statsmodels/tsa/tsatools.py:142: FutureWarning: In a future version of pandas all arguments of concat except for the argument 'objs' will be keyword-only\n",
      "  x = pd.concat(x[::order], 1)\n"
     ]
    },
    {
     "name": "stdout",
     "output_type": "stream",
     "text": [
      "OLS-3+H:1:done\n",
      "Current Time = 01:00:23\n"
     ]
    },
    {
     "name": "stderr",
     "output_type": "stream",
     "text": [
      "/opt/software/Anaconda3/2021.05/lib/python3.8/site-packages/statsmodels/tsa/tsatools.py:142: FutureWarning: In a future version of pandas all arguments of concat except for the argument 'objs' will be keyword-only\n",
      "  x = pd.concat(x[::order], 1)\n",
      "/opt/software/Anaconda3/2021.05/lib/python3.8/site-packages/statsmodels/tsa/tsatools.py:142: FutureWarning: In a future version of pandas all arguments of concat except for the argument 'objs' will be keyword-only\n",
      "  x = pd.concat(x[::order], 1)\n"
     ]
    },
    {
     "name": "stdout",
     "output_type": "stream",
     "text": [
      "OLS-3+H:2:done\n",
      "Current Time = 01:00:31\n"
     ]
    },
    {
     "name": "stderr",
     "output_type": "stream",
     "text": [
      "/opt/software/Anaconda3/2021.05/lib/python3.8/site-packages/statsmodels/tsa/tsatools.py:142: FutureWarning: In a future version of pandas all arguments of concat except for the argument 'objs' will be keyword-only\n",
      "  x = pd.concat(x[::order], 1)\n",
      "/opt/software/Anaconda3/2021.05/lib/python3.8/site-packages/statsmodels/tsa/tsatools.py:142: FutureWarning: In a future version of pandas all arguments of concat except for the argument 'objs' will be keyword-only\n",
      "  x = pd.concat(x[::order], 1)\n"
     ]
    },
    {
     "name": "stdout",
     "output_type": "stream",
     "text": [
      "OLS-3+H:3:done\n",
      "Current Time = 01:00:42\n"
     ]
    },
    {
     "name": "stderr",
     "output_type": "stream",
     "text": [
      "/opt/software/Anaconda3/2021.05/lib/python3.8/site-packages/statsmodels/tsa/tsatools.py:142: FutureWarning: In a future version of pandas all arguments of concat except for the argument 'objs' will be keyword-only\n",
      "  x = pd.concat(x[::order], 1)\n"
     ]
    },
    {
     "name": "stdout",
     "output_type": "stream",
     "text": [
      "PLS:0:done\n",
      "Current Time = 01:05:31\n",
      "PLS:1:done\n",
      "Current Time = 01:10:44\n",
      "PLS:2:done\n",
      "Current Time = 01:16:22\n",
      "PLS:3:done\n",
      "Current Time = 01:22:12\n",
      "PLS:4:done\n",
      "Current Time = 01:29:02\n",
      "PLS:5:done\n",
      "Current Time = 01:36:26\n",
      "PLS:6:done\n",
      "Current Time = 01:43:36\n"
     ]
    },
    {
     "name": "stderr",
     "output_type": "stream",
     "text": [
      "/opt/software/Anaconda3/2021.05/lib/python3.8/site-packages/sklearn/linear_model/_coordinate_descent.py:530: ConvergenceWarning: Objective did not converge. You might want to increase the number of iterations. Duality gap: 3234.175829139709, tolerance: 3.4770954489708488\n",
      "  model = cd_fast.enet_coordinate_descent(\n",
      "/opt/software/Anaconda3/2021.05/lib/python3.8/site-packages/sklearn/linear_model/_coordinate_descent.py:530: ConvergenceWarning: Objective did not converge. You might want to increase the number of iterations. Duality gap: 3234.175829139709, tolerance: 3.4770954489708488\n",
      "  model = cd_fast.enet_coordinate_descent(\n"
     ]
    },
    {
     "name": "stdout",
     "output_type": "stream",
     "text": [
      "RF:300:done\n",
      "Current Time = 07:03:29\n",
      "RF:300:done\n",
      "Current Time = 07:13:09\n",
      "RF:300:done\n",
      "Current Time = 07:27:27\n",
      "RF:300:done\n",
      "Current Time = 07:47:28\n",
      "RF:300:done\n",
      "Current Time = 08:11:48\n",
      "RF:300:done\n",
      "Current Time = 08:40:20\n",
      "RF:300:done\n",
      "Current Time = 08:49:50\n",
      "RF:300:done\n",
      "Current Time = 09:07:27\n",
      "RF:300:done\n",
      "Current Time = 09:34:44\n",
      "RF:300:done\n",
      "Current Time = 10:10:53\n",
      "RF:300:done\n",
      "Current Time = 10:55:24\n",
      "RF:300:done\n",
      "Current Time = 11:47:28\n",
      "RF:300:done\n",
      "Current Time = 12:01:37\n",
      "RF:300:done\n",
      "Current Time = 12:27:25\n",
      "RF:300:done\n",
      "Current Time = 13:05:20\n",
      "RF:300:done\n",
      "Current Time = 13:57:12\n",
      "RF:300:done\n",
      "Current Time = 14:57:07\n",
      "RF:300:done\n",
      "Current Time = 16:10:51\n",
      "RF:300:done\n",
      "Current Time = 16:32:19\n",
      "RF:300:done\n",
      "Current Time = 17:14:36\n",
      "RF:300:done\n",
      "Current Time = 18:16:55\n",
      "RF:300:done\n",
      "Current Time = 19:38:36\n",
      "RF:300:done\n",
      "Current Time = 21:19:19\n",
      "RF:300:done\n",
      "Current Time = 23:25:06\n",
      "2007\n",
      "Current Time = 23:32:25\n"
     ]
    },
    {
     "name": "stderr",
     "output_type": "stream",
     "text": [
      "/opt/software/Anaconda3/2021.05/lib/python3.8/site-packages/statsmodels/tsa/tsatools.py:142: FutureWarning: In a future version of pandas all arguments of concat except for the argument 'objs' will be keyword-only\n",
      "  x = pd.concat(x[::order], 1)\n",
      "/opt/software/Anaconda3/2021.05/lib/python3.8/site-packages/statsmodels/tsa/tsatools.py:142: FutureWarning: In a future version of pandas all arguments of concat except for the argument 'objs' will be keyword-only\n",
      "  x = pd.concat(x[::order], 1)\n",
      "/opt/software/Anaconda3/2021.05/lib/python3.8/site-packages/statsmodels/tsa/tsatools.py:142: FutureWarning: In a future version of pandas all arguments of concat except for the argument 'objs' will be keyword-only\n",
      "  x = pd.concat(x[::order], 1)\n"
     ]
    },
    {
     "name": "stdout",
     "output_type": "stream",
     "text": [
      "OLS-3+H:0:done\n",
      "Current Time = 23:32:33\n"
     ]
    },
    {
     "name": "stderr",
     "output_type": "stream",
     "text": [
      "/opt/software/Anaconda3/2021.05/lib/python3.8/site-packages/statsmodels/tsa/tsatools.py:142: FutureWarning: In a future version of pandas all arguments of concat except for the argument 'objs' will be keyword-only\n",
      "  x = pd.concat(x[::order], 1)\n",
      "/opt/software/Anaconda3/2021.05/lib/python3.8/site-packages/statsmodels/tsa/tsatools.py:142: FutureWarning: In a future version of pandas all arguments of concat except for the argument 'objs' will be keyword-only\n",
      "  x = pd.concat(x[::order], 1)\n"
     ]
    },
    {
     "name": "stdout",
     "output_type": "stream",
     "text": [
      "OLS-3+H:1:done\n",
      "Current Time = 23:32:40\n"
     ]
    },
    {
     "name": "stderr",
     "output_type": "stream",
     "text": [
      "/opt/software/Anaconda3/2021.05/lib/python3.8/site-packages/statsmodels/tsa/tsatools.py:142: FutureWarning: In a future version of pandas all arguments of concat except for the argument 'objs' will be keyword-only\n",
      "  x = pd.concat(x[::order], 1)\n",
      "/opt/software/Anaconda3/2021.05/lib/python3.8/site-packages/statsmodels/tsa/tsatools.py:142: FutureWarning: In a future version of pandas all arguments of concat except for the argument 'objs' will be keyword-only\n",
      "  x = pd.concat(x[::order], 1)\n"
     ]
    },
    {
     "name": "stdout",
     "output_type": "stream",
     "text": [
      "OLS-3+H:2:done\n",
      "Current Time = 23:32:50\n"
     ]
    },
    {
     "name": "stderr",
     "output_type": "stream",
     "text": [
      "/opt/software/Anaconda3/2021.05/lib/python3.8/site-packages/statsmodels/tsa/tsatools.py:142: FutureWarning: In a future version of pandas all arguments of concat except for the argument 'objs' will be keyword-only\n",
      "  x = pd.concat(x[::order], 1)\n",
      "/opt/software/Anaconda3/2021.05/lib/python3.8/site-packages/statsmodels/tsa/tsatools.py:142: FutureWarning: In a future version of pandas all arguments of concat except for the argument 'objs' will be keyword-only\n",
      "  x = pd.concat(x[::order], 1)\n"
     ]
    },
    {
     "name": "stdout",
     "output_type": "stream",
     "text": [
      "OLS-3+H:3:done\n",
      "Current Time = 23:32:58\n"
     ]
    },
    {
     "name": "stderr",
     "output_type": "stream",
     "text": [
      "/opt/software/Anaconda3/2021.05/lib/python3.8/site-packages/statsmodels/tsa/tsatools.py:142: FutureWarning: In a future version of pandas all arguments of concat except for the argument 'objs' will be keyword-only\n",
      "  x = pd.concat(x[::order], 1)\n"
     ]
    },
    {
     "name": "stdout",
     "output_type": "stream",
     "text": [
      "PLS:0:done\n",
      "Current Time = 23:40:33\n",
      "PLS:1:done\n",
      "Current Time = 23:47:48\n",
      "PLS:2:done\n",
      "Current Time = 23:55:48\n",
      "PLS:3:done\n",
      "Current Time = 00:03:25\n",
      "PLS:4:done\n",
      "Current Time = 00:11:43\n",
      "PLS:5:done\n",
      "Current Time = 00:21:00\n",
      "PLS:6:done\n",
      "Current Time = 00:31:40\n"
     ]
    },
    {
     "name": "stderr",
     "output_type": "stream",
     "text": [
      "/opt/software/Anaconda3/2021.05/lib/python3.8/site-packages/sklearn/linear_model/_coordinate_descent.py:530: ConvergenceWarning: Objective did not converge. You might want to increase the number of iterations. Duality gap: 9247.290995111467, tolerance: 5.105383259659414\n",
      "  model = cd_fast.enet_coordinate_descent(\n",
      "/opt/software/Anaconda3/2021.05/lib/python3.8/site-packages/sklearn/linear_model/_coordinate_descent.py:530: ConvergenceWarning: Objective did not converge. You might want to increase the number of iterations. Duality gap: 9247.290995111467, tolerance: 5.105383259659414\n",
      "  model = cd_fast.enet_coordinate_descent(\n"
     ]
    },
    {
     "name": "stdout",
     "output_type": "stream",
     "text": [
      "RF:300:done\n",
      "Current Time = 03:23:05\n",
      "RF:300:done\n",
      "Current Time = 03:35:41\n",
      "RF:300:done\n",
      "Current Time = 03:54:41\n",
      "RF:300:done\n",
      "Current Time = 04:19:05\n",
      "RF:300:done\n",
      "Current Time = 04:49:22\n",
      "RF:300:done\n",
      "Current Time = 05:26:55\n",
      "RF:300:done\n",
      "Current Time = 05:39:54\n",
      "RF:300:done\n",
      "Current Time = 06:05:16\n",
      "RF:300:done\n",
      "Current Time = 06:42:18\n",
      "RF:300:done\n",
      "Current Time = 07:31:45\n",
      "RF:300:done\n",
      "Current Time = 08:32:30\n",
      "RF:300:done\n",
      "Current Time = 09:47:06\n",
      "RF:300:done\n",
      "Current Time = 10:07:23\n",
      "RF:300:done\n",
      "Current Time = 10:47:51\n",
      "RF:300:done\n",
      "Current Time = 11:43:26\n",
      "RF:300:done\n",
      "Current Time = 12:58:57\n",
      "RF:300:done\n",
      "Current Time = 14:31:07\n",
      "RF:300:done\n",
      "Current Time = 16:25:55\n",
      "RF:300:done\n",
      "Current Time = 16:57:56\n",
      "RF:300:done\n",
      "Current Time = 17:57:56\n",
      "RF:300:done\n",
      "Current Time = 19:29:15\n",
      "RF:300:done\n",
      "Current Time = 21:26:34\n",
      "RF:300:done\n",
      "Current Time = 23:44:05\n",
      "RF:300:done\n",
      "Current Time = 02:49:53\n",
      "2012\n",
      "Current Time = 03:04:22\n"
     ]
    },
    {
     "name": "stderr",
     "output_type": "stream",
     "text": [
      "/opt/software/Anaconda3/2021.05/lib/python3.8/site-packages/statsmodels/tsa/tsatools.py:142: FutureWarning: In a future version of pandas all arguments of concat except for the argument 'objs' will be keyword-only\n",
      "  x = pd.concat(x[::order], 1)\n",
      "/opt/software/Anaconda3/2021.05/lib/python3.8/site-packages/statsmodels/tsa/tsatools.py:142: FutureWarning: In a future version of pandas all arguments of concat except for the argument 'objs' will be keyword-only\n",
      "  x = pd.concat(x[::order], 1)\n",
      "/opt/software/Anaconda3/2021.05/lib/python3.8/site-packages/statsmodels/tsa/tsatools.py:142: FutureWarning: In a future version of pandas all arguments of concat except for the argument 'objs' will be keyword-only\n",
      "  x = pd.concat(x[::order], 1)\n"
     ]
    },
    {
     "name": "stdout",
     "output_type": "stream",
     "text": [
      "OLS-3+H:0:done\n",
      "Current Time = 03:04:24\n"
     ]
    },
    {
     "name": "stderr",
     "output_type": "stream",
     "text": [
      "/opt/software/Anaconda3/2021.05/lib/python3.8/site-packages/statsmodels/tsa/tsatools.py:142: FutureWarning: In a future version of pandas all arguments of concat except for the argument 'objs' will be keyword-only\n",
      "  x = pd.concat(x[::order], 1)\n",
      "/opt/software/Anaconda3/2021.05/lib/python3.8/site-packages/statsmodels/tsa/tsatools.py:142: FutureWarning: In a future version of pandas all arguments of concat except for the argument 'objs' will be keyword-only\n",
      "  x = pd.concat(x[::order], 1)\n"
     ]
    },
    {
     "name": "stdout",
     "output_type": "stream",
     "text": [
      "OLS-3+H:1:done\n",
      "Current Time = 03:04:26\n"
     ]
    },
    {
     "name": "stderr",
     "output_type": "stream",
     "text": [
      "/opt/software/Anaconda3/2021.05/lib/python3.8/site-packages/statsmodels/tsa/tsatools.py:142: FutureWarning: In a future version of pandas all arguments of concat except for the argument 'objs' will be keyword-only\n",
      "  x = pd.concat(x[::order], 1)\n",
      "/opt/software/Anaconda3/2021.05/lib/python3.8/site-packages/statsmodels/tsa/tsatools.py:142: FutureWarning: In a future version of pandas all arguments of concat except for the argument 'objs' will be keyword-only\n",
      "  x = pd.concat(x[::order], 1)\n"
     ]
    },
    {
     "name": "stdout",
     "output_type": "stream",
     "text": [
      "OLS-3+H:2:done\n",
      "Current Time = 03:04:29\n"
     ]
    },
    {
     "name": "stderr",
     "output_type": "stream",
     "text": [
      "/opt/software/Anaconda3/2021.05/lib/python3.8/site-packages/statsmodels/tsa/tsatools.py:142: FutureWarning: In a future version of pandas all arguments of concat except for the argument 'objs' will be keyword-only\n",
      "  x = pd.concat(x[::order], 1)\n",
      "/opt/software/Anaconda3/2021.05/lib/python3.8/site-packages/statsmodels/tsa/tsatools.py:142: FutureWarning: In a future version of pandas all arguments of concat except for the argument 'objs' will be keyword-only\n",
      "  x = pd.concat(x[::order], 1)\n"
     ]
    },
    {
     "name": "stdout",
     "output_type": "stream",
     "text": [
      "OLS-3+H:3:done\n",
      "Current Time = 03:04:40\n"
     ]
    },
    {
     "name": "stderr",
     "output_type": "stream",
     "text": [
      "/opt/software/Anaconda3/2021.05/lib/python3.8/site-packages/statsmodels/tsa/tsatools.py:142: FutureWarning: In a future version of pandas all arguments of concat except for the argument 'objs' will be keyword-only\n",
      "  x = pd.concat(x[::order], 1)\n"
     ]
    },
    {
     "name": "stdout",
     "output_type": "stream",
     "text": [
      "PLS:0:done\n",
      "Current Time = 03:12:02\n",
      "PLS:1:done\n",
      "Current Time = 03:19:06\n",
      "PLS:2:done\n",
      "Current Time = 03:27:13\n",
      "PLS:3:done\n",
      "Current Time = 03:35:50\n",
      "PLS:4:done\n",
      "Current Time = 03:45:08\n",
      "PLS:5:done\n",
      "Current Time = 03:55:38\n",
      "PLS:6:done\n",
      "Current Time = 04:06:37\n"
     ]
    },
    {
     "name": "stderr",
     "output_type": "stream",
     "text": [
      "/opt/software/Anaconda3/2021.05/lib/python3.8/site-packages/sklearn/linear_model/_coordinate_descent.py:530: ConvergenceWarning: Objective did not converge. You might want to increase the number of iterations. Duality gap: 39.891985901180306, tolerance: 7.07788830484887\n",
      "  model = cd_fast.enet_coordinate_descent(\n",
      "/opt/software/Anaconda3/2021.05/lib/python3.8/site-packages/sklearn/linear_model/_coordinate_descent.py:530: ConvergenceWarning: Objective did not converge. You might want to increase the number of iterations. Duality gap: 39.891985901180306, tolerance: 7.07788830484887\n",
      "  model = cd_fast.enet_coordinate_descent(\n"
     ]
    },
    {
     "name": "stdout",
     "output_type": "stream",
     "text": [
      "RF:300:done\n",
      "Current Time = 07:44:06\n",
      "RF:300:done\n",
      "Current Time = 08:03:01\n",
      "RF:300:done\n",
      "Current Time = 08:30:07\n",
      "RF:300:done\n",
      "Current Time = 09:06:03\n",
      "RF:300:done\n",
      "Current Time = 09:48:53\n",
      "RF:300:done\n",
      "Current Time = 10:38:03\n",
      "RF:300:done\n",
      "Current Time = 10:55:31\n",
      "RF:300:done\n",
      "Current Time = 11:31:37\n",
      "RF:300:done\n",
      "Current Time = 12:23:14\n",
      "RF:300:done\n",
      "Current Time = 13:28:38\n",
      "RF:300:done\n",
      "Current Time = 14:48:34\n",
      "RF:300:done\n",
      "Current Time = 16:25:25\n",
      "RF:300:done\n",
      "Current Time = 16:50:48\n",
      "RF:300:done\n",
      "Current Time = 17:42:47\n",
      "RF:300:done\n",
      "Current Time = 18:56:00\n",
      "RF:300:done\n",
      "Current Time = 20:30:30\n",
      "RF:300:done\n",
      "Current Time = 22:31:53\n",
      "RF:300:done\n",
      "Current Time = 00:49:01\n",
      "RF:300:done\n",
      "Current Time = 01:28:56\n",
      "RF:300:done\n",
      "Current Time = 02:53:18\n",
      "RF:300:done\n",
      "Current Time = 05:01:30\n",
      "RF:300:done\n",
      "Current Time = 07:42:01\n",
      "RF:300:done\n",
      "Current Time = 10:57:58\n",
      "RF:300:done\n",
      "Current Time = 14:50:16\n",
      "2017\n",
      "Current Time = 15:03:02\n"
     ]
    },
    {
     "name": "stderr",
     "output_type": "stream",
     "text": [
      "/opt/software/Anaconda3/2021.05/lib/python3.8/site-packages/statsmodels/tsa/tsatools.py:142: FutureWarning: In a future version of pandas all arguments of concat except for the argument 'objs' will be keyword-only\n",
      "  x = pd.concat(x[::order], 1)\n",
      "/opt/software/Anaconda3/2021.05/lib/python3.8/site-packages/statsmodels/tsa/tsatools.py:142: FutureWarning: In a future version of pandas all arguments of concat except for the argument 'objs' will be keyword-only\n",
      "  x = pd.concat(x[::order], 1)\n",
      "/opt/software/Anaconda3/2021.05/lib/python3.8/site-packages/statsmodels/tsa/tsatools.py:142: FutureWarning: In a future version of pandas all arguments of concat except for the argument 'objs' will be keyword-only\n",
      "  x = pd.concat(x[::order], 1)\n"
     ]
    },
    {
     "name": "stdout",
     "output_type": "stream",
     "text": [
      "OLS-3+H:0:done\n",
      "Current Time = 15:03:04\n"
     ]
    },
    {
     "name": "stderr",
     "output_type": "stream",
     "text": [
      "/opt/software/Anaconda3/2021.05/lib/python3.8/site-packages/statsmodels/tsa/tsatools.py:142: FutureWarning: In a future version of pandas all arguments of concat except for the argument 'objs' will be keyword-only\n",
      "  x = pd.concat(x[::order], 1)\n",
      "/opt/software/Anaconda3/2021.05/lib/python3.8/site-packages/statsmodels/tsa/tsatools.py:142: FutureWarning: In a future version of pandas all arguments of concat except for the argument 'objs' will be keyword-only\n",
      "  x = pd.concat(x[::order], 1)\n"
     ]
    },
    {
     "name": "stdout",
     "output_type": "stream",
     "text": [
      "OLS-3+H:1:done\n",
      "Current Time = 15:03:18\n"
     ]
    },
    {
     "name": "stderr",
     "output_type": "stream",
     "text": [
      "/opt/software/Anaconda3/2021.05/lib/python3.8/site-packages/statsmodels/tsa/tsatools.py:142: FutureWarning: In a future version of pandas all arguments of concat except for the argument 'objs' will be keyword-only\n",
      "  x = pd.concat(x[::order], 1)\n"
     ]
    },
    {
     "name": "stdout",
     "output_type": "stream",
     "text": [
      "OLS-3+H:2:done\n",
      "Current Time = 15:03:30\n"
     ]
    },
    {
     "name": "stderr",
     "output_type": "stream",
     "text": [
      "/opt/software/Anaconda3/2021.05/lib/python3.8/site-packages/statsmodels/tsa/tsatools.py:142: FutureWarning: In a future version of pandas all arguments of concat except for the argument 'objs' will be keyword-only\n",
      "  x = pd.concat(x[::order], 1)\n",
      "/opt/software/Anaconda3/2021.05/lib/python3.8/site-packages/statsmodels/tsa/tsatools.py:142: FutureWarning: In a future version of pandas all arguments of concat except for the argument 'objs' will be keyword-only\n",
      "  x = pd.concat(x[::order], 1)\n",
      "/opt/software/Anaconda3/2021.05/lib/python3.8/site-packages/statsmodels/tsa/tsatools.py:142: FutureWarning: In a future version of pandas all arguments of concat except for the argument 'objs' will be keyword-only\n",
      "  x = pd.concat(x[::order], 1)\n"
     ]
    },
    {
     "name": "stdout",
     "output_type": "stream",
     "text": [
      "OLS-3+H:3:done\n",
      "Current Time = 15:03:47\n"
     ]
    },
    {
     "name": "stderr",
     "output_type": "stream",
     "text": [
      "/opt/software/Anaconda3/2021.05/lib/python3.8/site-packages/statsmodels/tsa/tsatools.py:142: FutureWarning: In a future version of pandas all arguments of concat except for the argument 'objs' will be keyword-only\n",
      "  x = pd.concat(x[::order], 1)\n"
     ]
    },
    {
     "ename": "ValueError",
     "evalue": "Found array with 0 sample(s) (shape=(0, 4)) while a minimum of 1 is required.",
     "output_type": "error",
     "traceback": [
      "\u001b[0;31m---------------------------------------------------------------------------\u001b[0m",
      "\u001b[0;31mValueError\u001b[0m                                Traceback (most recent call last)",
      "\u001b[0;32m<ipython-input-26-8d623054e39e>\u001b[0m in \u001b[0;36m<module>\u001b[0;34m\u001b[0m\n\u001b[1;32m     31\u001b[0m     \u001b[0mmodel\u001b[0m \u001b[0;34m=\u001b[0m \u001b[0mlm\u001b[0m\u001b[0;34m.\u001b[0m\u001b[0mHuberRegressor\u001b[0m\u001b[0;34m(\u001b[0m\u001b[0mepsilon\u001b[0m\u001b[0;34m=\u001b[0m\u001b[0mparameters\u001b[0m\u001b[0;34m[\u001b[0m\u001b[0;34m'epsilon'\u001b[0m\u001b[0;34m]\u001b[0m\u001b[0;34m[\u001b[0m\u001b[0mbesti\u001b[0m\u001b[0;34m]\u001b[0m\u001b[0;34m)\u001b[0m\u001b[0;34m\u001b[0m\u001b[0;34m\u001b[0m\u001b[0m\n\u001b[1;32m     32\u001b[0m     \u001b[0mmodel\u001b[0m\u001b[0;34m.\u001b[0m\u001b[0mfit\u001b[0m\u001b[0;34m(\u001b[0m\u001b[0msm\u001b[0m\u001b[0;34m.\u001b[0m\u001b[0madd_constant\u001b[0m\u001b[0;34m(\u001b[0m\u001b[0mtrain_x\u001b[0m\u001b[0;34m[\u001b[0m\u001b[0mthree\u001b[0m\u001b[0;34m]\u001b[0m\u001b[0;34m)\u001b[0m\u001b[0;34m,\u001b[0m \u001b[0mtrain_y\u001b[0m\u001b[0;34m)\u001b[0m\u001b[0;34m\u001b[0m\u001b[0;34m\u001b[0m\u001b[0m\n\u001b[0;32m---> 33\u001b[0;31m     \u001b[0mt1\u001b[0m\u001b[0;34m=\u001b[0m\u001b[0mmodel\u001b[0m\u001b[0;34m.\u001b[0m\u001b[0mpredict\u001b[0m\u001b[0;34m(\u001b[0m\u001b[0msm\u001b[0m\u001b[0;34m.\u001b[0m\u001b[0madd_constant\u001b[0m\u001b[0;34m(\u001b[0m\u001b[0moostest_x\u001b[0m\u001b[0;34m[\u001b[0m\u001b[0mthree\u001b[0m\u001b[0;34m]\u001b[0m\u001b[0;34m)\u001b[0m\u001b[0;34m)\u001b[0m\u001b[0;34m\u001b[0m\u001b[0;34m\u001b[0m\u001b[0m\n\u001b[0m\u001b[1;32m     34\u001b[0m     perf=pd.concat([oostest_names.reset_index(),pd.DataFrame([np.array(oostest_y),t1]).T],\n\u001b[1;32m     35\u001b[0m                    axis=1).rename(columns={0:'real', 1:'OLS-3+H'})\n",
      "\u001b[0;32m/opt/software/Anaconda3/2021.05/lib/python3.8/site-packages/sklearn/linear_model/_base.py\u001b[0m in \u001b[0;36mpredict\u001b[0;34m(self, X)\u001b[0m\n\u001b[1;32m    236\u001b[0m             \u001b[0mReturns\u001b[0m \u001b[0mpredicted\u001b[0m \u001b[0mvalues\u001b[0m\u001b[0;34m.\u001b[0m\u001b[0;34m\u001b[0m\u001b[0;34m\u001b[0m\u001b[0m\n\u001b[1;32m    237\u001b[0m         \"\"\"\n\u001b[0;32m--> 238\u001b[0;31m         \u001b[0;32mreturn\u001b[0m \u001b[0mself\u001b[0m\u001b[0;34m.\u001b[0m\u001b[0m_decision_function\u001b[0m\u001b[0;34m(\u001b[0m\u001b[0mX\u001b[0m\u001b[0;34m)\u001b[0m\u001b[0;34m\u001b[0m\u001b[0;34m\u001b[0m\u001b[0m\n\u001b[0m\u001b[1;32m    239\u001b[0m \u001b[0;34m\u001b[0m\u001b[0m\n\u001b[1;32m    240\u001b[0m     \u001b[0m_preprocess_data\u001b[0m \u001b[0;34m=\u001b[0m \u001b[0mstaticmethod\u001b[0m\u001b[0;34m(\u001b[0m\u001b[0m_preprocess_data\u001b[0m\u001b[0;34m)\u001b[0m\u001b[0;34m\u001b[0m\u001b[0;34m\u001b[0m\u001b[0m\n",
      "\u001b[0;32m/opt/software/Anaconda3/2021.05/lib/python3.8/site-packages/sklearn/linear_model/_base.py\u001b[0m in \u001b[0;36m_decision_function\u001b[0;34m(self, X)\u001b[0m\n\u001b[1;32m    218\u001b[0m         \u001b[0mcheck_is_fitted\u001b[0m\u001b[0;34m(\u001b[0m\u001b[0mself\u001b[0m\u001b[0;34m)\u001b[0m\u001b[0;34m\u001b[0m\u001b[0;34m\u001b[0m\u001b[0m\n\u001b[1;32m    219\u001b[0m \u001b[0;34m\u001b[0m\u001b[0m\n\u001b[0;32m--> 220\u001b[0;31m         \u001b[0mX\u001b[0m \u001b[0;34m=\u001b[0m \u001b[0mcheck_array\u001b[0m\u001b[0;34m(\u001b[0m\u001b[0mX\u001b[0m\u001b[0;34m,\u001b[0m \u001b[0maccept_sparse\u001b[0m\u001b[0;34m=\u001b[0m\u001b[0;34m[\u001b[0m\u001b[0;34m'csr'\u001b[0m\u001b[0;34m,\u001b[0m \u001b[0;34m'csc'\u001b[0m\u001b[0;34m,\u001b[0m \u001b[0;34m'coo'\u001b[0m\u001b[0;34m]\u001b[0m\u001b[0;34m)\u001b[0m\u001b[0;34m\u001b[0m\u001b[0;34m\u001b[0m\u001b[0m\n\u001b[0m\u001b[1;32m    221\u001b[0m         return safe_sparse_dot(X, self.coef_.T,\n\u001b[1;32m    222\u001b[0m                                dense_output=True) + self.intercept_\n",
      "\u001b[0;32m/opt/software/Anaconda3/2021.05/lib/python3.8/site-packages/sklearn/utils/validation.py\u001b[0m in \u001b[0;36minner_f\u001b[0;34m(*args, **kwargs)\u001b[0m\n\u001b[1;32m     61\u001b[0m             \u001b[0mextra_args\u001b[0m \u001b[0;34m=\u001b[0m \u001b[0mlen\u001b[0m\u001b[0;34m(\u001b[0m\u001b[0margs\u001b[0m\u001b[0;34m)\u001b[0m \u001b[0;34m-\u001b[0m \u001b[0mlen\u001b[0m\u001b[0;34m(\u001b[0m\u001b[0mall_args\u001b[0m\u001b[0;34m)\u001b[0m\u001b[0;34m\u001b[0m\u001b[0;34m\u001b[0m\u001b[0m\n\u001b[1;32m     62\u001b[0m             \u001b[0;32mif\u001b[0m \u001b[0mextra_args\u001b[0m \u001b[0;34m<=\u001b[0m \u001b[0;36m0\u001b[0m\u001b[0;34m:\u001b[0m\u001b[0;34m\u001b[0m\u001b[0;34m\u001b[0m\u001b[0m\n\u001b[0;32m---> 63\u001b[0;31m                 \u001b[0;32mreturn\u001b[0m \u001b[0mf\u001b[0m\u001b[0;34m(\u001b[0m\u001b[0;34m*\u001b[0m\u001b[0margs\u001b[0m\u001b[0;34m,\u001b[0m \u001b[0;34m**\u001b[0m\u001b[0mkwargs\u001b[0m\u001b[0;34m)\u001b[0m\u001b[0;34m\u001b[0m\u001b[0;34m\u001b[0m\u001b[0m\n\u001b[0m\u001b[1;32m     64\u001b[0m \u001b[0;34m\u001b[0m\u001b[0m\n\u001b[1;32m     65\u001b[0m             \u001b[0;31m# extra_args > 0\u001b[0m\u001b[0;34m\u001b[0m\u001b[0;34m\u001b[0m\u001b[0;34m\u001b[0m\u001b[0m\n",
      "\u001b[0;32m/opt/software/Anaconda3/2021.05/lib/python3.8/site-packages/sklearn/utils/validation.py\u001b[0m in \u001b[0;36mcheck_array\u001b[0;34m(array, accept_sparse, accept_large_sparse, dtype, order, copy, force_all_finite, ensure_2d, allow_nd, ensure_min_samples, ensure_min_features, estimator)\u001b[0m\n\u001b[1;32m    724\u001b[0m         \u001b[0mn_samples\u001b[0m \u001b[0;34m=\u001b[0m \u001b[0m_num_samples\u001b[0m\u001b[0;34m(\u001b[0m\u001b[0marray\u001b[0m\u001b[0;34m)\u001b[0m\u001b[0;34m\u001b[0m\u001b[0;34m\u001b[0m\u001b[0m\n\u001b[1;32m    725\u001b[0m         \u001b[0;32mif\u001b[0m \u001b[0mn_samples\u001b[0m \u001b[0;34m<\u001b[0m \u001b[0mensure_min_samples\u001b[0m\u001b[0;34m:\u001b[0m\u001b[0;34m\u001b[0m\u001b[0;34m\u001b[0m\u001b[0m\n\u001b[0;32m--> 726\u001b[0;31m             raise ValueError(\"Found array with %d sample(s) (shape=%s) while a\"\n\u001b[0m\u001b[1;32m    727\u001b[0m                              \u001b[0;34m\" minimum of %d is required%s.\"\u001b[0m\u001b[0;34m\u001b[0m\u001b[0;34m\u001b[0m\u001b[0m\n\u001b[1;32m    728\u001b[0m                              % (n_samples, array.shape, ensure_min_samples,\n",
      "\u001b[0;31mValueError\u001b[0m: Found array with 0 sample(s) (shape=(0, 4)) while a minimum of 1 is required."
     ]
    }
   ],
   "source": [
    "perfall=pd.DataFrame()\n",
    "comp=pd.DataFrame(index=range(firstyearOOS, lastyear, step), columns=[\"PLSComp\", \"RFDepth\"])\n",
    "\n",
    "for t in range(firstyearOOS, lastyear, step):\n",
    "    print(t)\n",
    "    train_x=dat[(dat[\"year\"]<t-valsize)][featlist]\n",
    "    train_x=train_x.fillna(train_x.median())\n",
    "    train_y=dat[(dat[\"year\"]<t-valsize)][\"ret\"]\n",
    "    train_x=train_x.dropna(axis='columns')\n",
    "\n",
    "    featlist1=train_x.columns\n",
    "\n",
    "    valid_x=dat[(dat[\"year\"]>=t-valsize)&(dat[\"year\"]<t)][featlist1]\n",
    "    oostest_x=dat[(dat[\"year\"]>=t)&(dat[\"year\"]<t+step)][featlist1]\n",
    "    valid_y=dat[(dat[\"year\"]>=t-valsize)&(dat[\"year\"]<t)][\"ret\"]\n",
    "    oostest_y=dat[(dat[\"year\"]>=t)&(dat[\"year\"]<t+step)][\"ret\"]\n",
    "    oostest_names=dat[(dat[\"year\"]>=t)&(dat[\"year\"]<t+step)][[\"permno\", \"month\", \"year\", \"mvel1\"]]\n",
    "    print(\"Current Time =\", datetime.now().strftime(\"%H:%M:%S\"))\n",
    "  \n",
    "    ### OLS-3 +H\n",
    "    parameters = {'epsilon':[1, 1.15, 1.3, 1.5]}\n",
    "    mselist=[]\n",
    "    for i in range(0,len(parameters['epsilon'])):\n",
    "        model = lm.HuberRegressor(epsilon=parameters['epsilon'][i])\n",
    "        model.fit(sm.add_constant(train_x[three]), train_y)\n",
    "        mse=mean_squared_error(valid_y, model.predict(sm.add_constant(valid_x[three])))\n",
    "        mselist=mselist+[mse]\n",
    "        print('OLS-3+H'+\":\"+str(i)+':done')\n",
    "        print(\"Current Time =\", datetime.now().strftime(\"%H:%M:%S\"))\n",
    "    besti=mselist.index(max(mselist))\n",
    "    model = lm.HuberRegressor(epsilon=parameters['epsilon'][besti])\n",
    "    model.fit(sm.add_constant(train_x[three]), train_y)\n",
    "    t1=model.predict(sm.add_constant(oostest_x[three]))\n",
    "    perf=pd.concat([oostest_names.reset_index(),pd.DataFrame([np.array(oostest_y),t1]).T],\n",
    "                   axis=1).rename(columns={0:'real', 1:'OLS-3+H'})\n",
    "    #perf[\"year\"]=t\n",
    "\n",
    "    ### PLS\n",
    "    parameters = {'k':[1, 2, 3, 4, 5, 6, 7]}\n",
    "    mselist=[]\n",
    "    for i in range(0,len(parameters['k'])):\n",
    "        model = PLSRegression(n_components=parameters['k'][i])\n",
    "        model.fit(scale(train_x), train_y)\n",
    "        mse=mean_squared_error(valid_y, model.predict(scale(valid_x)))\n",
    "        mselist=mselist+[mse]\n",
    "        print('PLS'+\":\"+str(i)+':done')\n",
    "        print(\"Current Time =\", datetime.now().strftime(\"%H:%M:%S\"))\n",
    "    besti=mselist.index(max(mselist))\n",
    "    model = PLSRegression(n_components=parameters['k'][besti])\n",
    "    model.fit(scale(train_x), train_y)\n",
    "    t1=model.predict(scale(oostest_x))\n",
    "    perf=pd.concat([perf,pd.DataFrame(t1)], axis=1).rename(columns={0:'PLS'})\n",
    "    #perfall=perfall.append(perf)\n",
    "    comp.at[t, 'PLSComp'] =parameters['k'][besti] \n",
    "\n",
    "    ### Elastic Net - should be +H\n",
    "    x_train_scaled=sklearn.preprocessing.scale(train_x, axis=0, with_mean=True, with_std=True, copy=True)\n",
    "\n",
    "    x_test_scaled=sklearn.preprocessing.scale(oostest_x, axis=0, with_mean=True, with_std=True, copy=True)\n",
    "\n",
    "    x_valid_scaled=sklearn.preprocessing.scale(valid_x, axis=0, with_mean=True, with_std=True, copy=True)\n",
    "\n",
    "    parameters = {'rho':[.5], 'lambd':[10**-4,10**-3,10**-2,10**-1]}\n",
    "    mselist=[]\n",
    "\n",
    "    for j in list(product(*parameters.values())):\n",
    "        elasticModel=sklearn.linear_model.ElasticNet(alpha=j[1],l1_ratio=j[0],fit_intercept=True)\n",
    "        elasticModel.fit(x_train_scaled,train_y)\n",
    "        mse=mean_squared_error(valid_y, elasticModel.predict(x_valid_scaled))\n",
    "        mselist=mselist+[mse]\n",
    "    bestj=mselist.index(max(mselist))\n",
    "    elasticModel=sklearn.linear_model.ElasticNet(alpha=list(product(*parameters.values()))[bestj][1],\n",
    "                                                 l1_ratio=list(product(*parameters.values()))[bestj][0],\n",
    "                                                 fit_intercept=True)\n",
    "    elasticModel.fit(x_train_scaled,train_y)\n",
    "    t1=elasticModel.predict(x_test_scaled)\n",
    "    perf=pd.concat([perf,pd.DataFrame(t1)], axis=1).rename(columns={0:'E-Net'})\n",
    "    comp.at[t, 'ENetChar'] =(~(elasticModel.coef_==0)).sum()\n",
    "\n",
    "   \n",
    "    #RF \n",
    "    parameters = {'n_estimators': [300],\n",
    "                   'max_features': [10,20,30, 50],\n",
    "                   'max_depth': [1,2,3,4,5,6]}\n",
    "    mselist=[]\n",
    "    for j in list(product(*parameters.values())):\n",
    "        model = RandomForestRegressor(n_estimators=j[0],max_features=j[1], max_depth=j[2])\n",
    "        model.fit(train_x, train_y)\n",
    "        mse=mean_squared_error(valid_y, model.predict(valid_x))\n",
    "        mselist=mselist+[mse]\n",
    "        print('RF'+\":\"+str(j[0])+':done')\n",
    "        print(\"Current Time =\", datetime.now().strftime(\"%H:%M:%S\"))\n",
    "    bestj=mselist.index(max(mselist))\n",
    "    model = RandomForestRegressor(n_estimators=list(product(*parameters.values()))[bestj][0],\n",
    "                                  max_features=list(product(*parameters.values()))[bestj][1],\n",
    "                                  max_depth=list(product(*parameters.values()))[bestj][2])\n",
    "    model.fit(train_x, train_y)\n",
    "    t1=model.predict(oostest_x)\n",
    "    perf=pd.concat([perf,pd.DataFrame(t1)], axis=1).rename(columns={0:'RF'})\n",
    "    comp.at[t, 'RFDepth'] =list(product(*parameters.values()))[bestj][2]\n",
    "       \n",
    "    perfall=perfall.append(perf)\n",
    "    perfall.to_pickle('perfall.pkl')\n",
    "    comp.to_pickle('comp.pkl')"
   ]
  }
 ],
 "metadata": {
  "kernelspec": {
   "display_name": "Python 3",
   "language": "python",
   "name": "python3"
  },
  "language_info": {
   "codemirror_mode": {
    "name": "ipython",
    "version": 3
   },
   "file_extension": ".py",
   "mimetype": "text/x-python",
   "name": "python",
   "nbconvert_exporter": "python",
   "pygments_lexer": "ipython3",
   "version": "3.8.6"
  }
 },
 "nbformat": 4,
 "nbformat_minor": 5
}
