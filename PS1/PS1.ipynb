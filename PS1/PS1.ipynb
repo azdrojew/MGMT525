{
 "cells": [
  {
   "cell_type": "code",
   "execution_count": 1,
   "id": "1ba655fa",
   "metadata": {},
   "outputs": [],
   "source": [
    "import wrds\n",
    "import pandas as pd\n",
    "import numpy as np\n",
    "from scipy import stats\n",
    "import scipy.linalg as la\n",
    "from scipy.integrate import quad\n",
    "from sklearn.metrics import make_scorer\n",
    "from sklearn import linear_model\n",
    "from sklearn import model_selection\n",
    "import statsmodels.api as sm\n",
    "from datetime import datetime\n",
    "import matplotlib.pyplot as plt\n",
    "from statsmodels.regression.rolling import RollingOLS\n",
    "import linearmodels as lm\n",
    "exec(open(\"/home/amz5/functionsByAnthony.py\").read()) # do whatever is in functionsByAnthony.py\n",
    "from statsmodels.iolib.summary2 import summary_col\n",
    "import os\n",
    "wd=os.getcwd()\n",
    "import random"
   ]
  },
  {
   "cell_type": "markdown",
   "id": "e5de8694",
   "metadata": {},
   "source": [
    "## Part 1 - No Skilled Funds"
   ]
  },
  {
   "cell_type": "code",
   "execution_count": 2,
   "id": "839b6407",
   "metadata": {},
   "outputs": [],
   "source": [
    "## Generating Time Series of Market returns (mkt_ts)\n",
    "T=120\n",
    "mu_rmktann=5\n",
    "sigma_rmktann=20\n",
    "\n",
    "np.random.seed(2021)\n",
    "\n",
    "mkt_ts=np.random.normal(mu_rmktann/12,sigma_rmktann/np.sqrt(12),(T))\n",
    "\n",
    "## Generating Time Series of Residuals (sig_ts)\n",
    "#Changed from 30 to 10 following canvas announcement\n",
    "res_vol_ann=10\n",
    "N=1000\n",
    "sig_ts=np.random.normal(0,res_vol_ann/np.sqrt(12),(N,T))\n",
    "\n",
    "## Adding residuals to market returns to generate fund returns if alpha_i=0 for each fund\n",
    "fundrets=sig_ts+mkt_ts"
   ]
  },
  {
   "cell_type": "code",
   "execution_count": 3,
   "id": "8a871842",
   "metadata": {},
   "outputs": [],
   "source": [
    "#Estimating each fund's alpha and its t-statistic and p-value \n",
    "tstats=[]\n",
    "alphas=[]\n",
    "pvals=[]\n",
    "for n in range(0,N): \n",
    "    reg=sm.OLS(fundrets[n], sm.add_constant(mkt_ts)).fit()\n",
    "    tstats.append(reg.tvalues[0])\n",
    "    alphas.append(reg.params[0])\n",
    "    pvals.append(reg.pvalues[0])\n",
    "tstats=np.array(tstats)\n",
    "alphas=np.array(alphas)\n",
    "pvals=np.array(pvals)"
   ]
  },
  {
   "cell_type": "markdown",
   "id": "1f7a9d08",
   "metadata": {},
   "source": [
    "**1. For each fund, estimate its alpha and t-statistic. How many funds are skilled at the 5% significance level based on t-statistics?**"
   ]
  },
  {
   "cell_type": "code",
   "execution_count": 4,
   "id": "98ec147e",
   "metadata": {
    "scrolled": false
   },
   "outputs": [
    {
     "data": {
      "text/plain": [
       "(22,)"
      ]
     },
     "execution_count": 4,
     "metadata": {},
     "output_type": "execute_result"
    }
   ],
   "source": [
    "pvals[(pvals<=.05)&(tstats>0)].shape"
   ]
  },
  {
   "cell_type": "markdown",
   "id": "8221dbb2",
   "metadata": {},
   "source": [
    "I call funds skilled if they have statistically significant positive alphas.  Under this definition, 22 funds, or 2.2% appear to be skilled."
   ]
  },
  {
   "cell_type": "markdown",
   "id": "b37c8f42",
   "metadata": {},
   "source": [
    "**2.  Plot the distributions of t-statistics and p-values for alpha.**"
   ]
  },
  {
   "cell_type": "code",
   "execution_count": 5,
   "id": "3b71c64b",
   "metadata": {},
   "outputs": [
    {
     "data": {
      "image/png": "[encoded data removed]",
      "text/plain": [
       "<Figure size 432x288 with 1 Axes>"
      ]
     },
     "metadata": {
      "needs_background": "light"
     },
     "output_type": "display_data"
    }
   ],
   "source": [
    "from matplotlib.ticker import PercentFormatter\n",
    "## Plotting distribution of t-statistics\n",
    "plot1=plt.figure()\n",
    "\n",
    "plt.hist(tstats, bins=30, weights=np.ones(len(tstats)) / len(tstats))\n",
    "plt.gca().yaxis.set_major_formatter(PercentFormatter(1))\n",
    "plt.xlabel(\"T-Statistic\")\n",
    "plt.ylabel(\"Percent of Funds\")\n",
    "plt.title(\"Distribution of T-statistics of Funds' $\\\\alpha$\")\n",
    "\n",
    "plt.show()"
   ]
  },
  {
   "cell_type": "code",
   "execution_count": 6,
   "id": "315aa9fa",
   "metadata": {
    "scrolled": false
   },
   "outputs": [
    {
     "data": {
      "image/png": "[encoded data removed]",
      "text/plain": [
       "<Figure size 432x288 with 1 Axes>"
      ]
     },
     "metadata": {
      "needs_background": "light"
     },
     "output_type": "display_data"
    }
   ],
   "source": [
    "## Plotting distribution of p-values\n",
    "plot2=plt.figure()\n",
    "\n",
    "plt.hist(pvals, bins=30, weights=np.ones(len(pvals)) / len(pvals))\n",
    "plt.gca().yaxis.set_major_formatter(PercentFormatter(1))\n",
    "plt.xlabel(\"P-Value\")\n",
    "plt.ylabel(\"Percent of Funds\")\n",
    "plt.title(\"Distribution of P-values of Funds' $\\\\alpha$\")\n",
    "\n",
    "plt.show()"
   ]
  },
  {
   "cell_type": "markdown",
   "id": "4220d448",
   "metadata": {},
   "source": [
    "**3. What does the distribution of p-values look like?**"
   ]
  },
  {
   "cell_type": "markdown",
   "id": "d346f8ea",
   "metadata": {},
   "source": [
    "The distribution of the p-values looks roughly uniform; the empirical density doesn't display a clear pattern and is more-or-less flat."
   ]
  },
  {
   "cell_type": "markdown",
   "id": "efee6e9b",
   "metadata": {},
   "source": [
    "## Part 2 - Some Skilled Funds"
   ]
  },
  {
   "cell_type": "markdown",
   "id": "d40ed699",
   "metadata": {},
   "source": [
    "I will simulate skilled funds by adding the appropriate $\\alpha$ to the simulated returns in the previous part."
   ]
  },
  {
   "cell_type": "code",
   "execution_count": 7,
   "id": "78b27730",
   "metadata": {},
   "outputs": [],
   "source": [
    "# Creating a function to find alphas, tstats, pvalues for each fund, given a proportion of skilled funds, llambda\n",
    "def pre_plot(llambda):\n",
    "    fundretsnew=fundrets.copy()\n",
    "    #changed from 2.5 to 5 following canvas announcement\n",
    "    alpha_yr=5\n",
    "    alpha_mth=alpha_yr/12\n",
    "    for n in range(0,int(N*llambda)): \n",
    "        fundretsnew[n]=fundrets[n]+alpha_mth\n",
    "    \n",
    "#Estimating each fund's alpha and its t-statistic and p-value \n",
    "    tstats=[]\n",
    "    alphas=[]\n",
    "    pvals=[]\n",
    "    lam=[llambda]*N\n",
    "    \n",
    "    for n in range(0,N): \n",
    "        reg=sm.OLS(fundretsnew[n], sm.add_constant(mkt_ts)).fit()\n",
    "        tstats.append(reg.tvalues[0])\n",
    "        alphas.append(reg.params[0])\n",
    "        pvals.append(reg.pvalues[0])\n",
    "    tstats=np.array(tstats)\n",
    "    alphas=np.array(alphas)\n",
    "    pvals=np.array(pvals)\n",
    "    lam=np.array(lam)\n",
    "    \n",
    "    return pd.DataFrame(data={'Fundno':np.array(range(0,N)), 'T-statistic':tstats, 'P-Value':pvals, \n",
    "                              '$\\\\alpha$':alphas, '$\\\\lambda$':lam})"
   ]
  },
  {
   "cell_type": "code",
   "execution_count": 8,
   "id": "be51e900",
   "metadata": {},
   "outputs": [],
   "source": [
    "lambda10=pre_plot(.1)\n",
    "lambda25=pre_plot(.25)\n",
    "lambda50=pre_plot(.5)\n",
    "lambda75=pre_plot(.75)"
   ]
  },
  {
   "cell_type": "markdown",
   "id": "738c3866",
   "metadata": {},
   "source": [
    "**1. For each $\\lambda$ value, make a plot of the cross-sectional distribution of estimated $\\alpha$, their T-stats, and the p-values. How does the p-value distribution change with the fraction\n",
    "of truly skilled funds?**"
   ]
  },
  {
   "cell_type": "code",
   "execution_count": 9,
   "id": "f924a09d",
   "metadata": {},
   "outputs": [],
   "source": [
    "#Defining a function which plots the distributions of the alpha/Tstat/pvalue for each lambda\n",
    "def plotr(var):\n",
    "    fig, ((ax1, ax2), (ax3, ax4)) = plt.subplots(2, 2, sharex=True, sharey=True, constrained_layout=True)\n",
    "    fig.suptitle('Distribution of Estimated '+var+', by $\\\\lambda$')\n",
    "    ax1.hist(lambda10[var], bins=30, weights=100*np.ones(len(lambda10[var])) / len(lambda10[var]))\n",
    "    ax1.set_title('$\\\\lambda$=.1')\n",
    "    ax2.hist(lambda25[var], bins=30, weights=100*np.ones(len(lambda25[var])) / len(lambda25[var]))\n",
    "    ax2.set_title('$\\\\lambda$=.25')\n",
    "    ax3.hist(lambda50[var], bins=30, weights=100*np.ones(len(lambda50[var])) / len(lambda50[var]))\n",
    "    ax3.set_title('$\\\\lambda$=.5')\n",
    "    ax4.hist(lambda75[var], bins=30, weights=100*np.ones(len(lambda75[var])) / len(lambda75[var]))\n",
    "    ax4.set_title('$\\\\lambda$=.75')\n",
    "    plt.grid(False)\n",
    "    fig.add_subplot(1, 1, 1, frame_on=False)\n",
    "\n",
    "# Hiding the axis ticks and tick labels of the bigger plot\n",
    "    plt.tick_params(labelcolor=\"none\", bottom=False, left=False)\n",
    "\n",
    "# Adding the x-axis and y-axis labels for the bigger plot\n",
    "    plt.xlabel(var)\n",
    "    plt.ylabel(\"Percent of Funds (%)\")\n",
    "\n",
    "    fig.tight_layout()\n",
    "    fig.set_size_inches(10,7)\n",
    "    return fig"
   ]
  },
  {
   "cell_type": "code",
   "execution_count": 10,
   "id": "c548f519",
   "metadata": {},
   "outputs": [
    {
     "name": "stderr",
     "output_type": "stream",
     "text": [
      "<ipython-input-9-8838edfa466e>:23: UserWarning: This figure was using constrained_layout==True, but that is incompatible with subplots_adjust and or tight_layout: setting constrained_layout==False. \n",
      "  fig.tight_layout()\n"
     ]
    },
    {
     "data": {
      "image/png": "[encoded data removed]",
      "text/plain": [
       "<Figure size 720x504 with 5 Axes>"
      ]
     },
     "metadata": {
      "needs_background": "light"
     },
     "output_type": "display_data"
    }
   ],
   "source": [
    "plot3=plotr(\"$\\\\alpha$\")"
   ]
  },
  {
   "cell_type": "code",
   "execution_count": 11,
   "id": "675381b3",
   "metadata": {
    "scrolled": false
   },
   "outputs": [
    {
     "name": "stderr",
     "output_type": "stream",
     "text": [
      "<ipython-input-9-8838edfa466e>:23: UserWarning: This figure was using constrained_layout==True, but that is incompatible with subplots_adjust and or tight_layout: setting constrained_layout==False. \n",
      "  fig.tight_layout()\n"
     ]
    },
    {
     "data": {
      "image/png": "[encoded data removed]",
      "text/plain": [
       "<Figure size 720x504 with 5 Axes>"
      ]
     },
     "metadata": {
      "needs_background": "light"
     },
     "output_type": "display_data"
    }
   ],
   "source": [
    "plot4=plotr(\"T-statistic\")"
   ]
  },
  {
   "cell_type": "code",
   "execution_count": 12,
   "id": "263af5b8",
   "metadata": {
    "scrolled": false
   },
   "outputs": [
    {
     "name": "stderr",
     "output_type": "stream",
     "text": [
      "<ipython-input-9-8838edfa466e>:23: UserWarning: This figure was using constrained_layout==True, but that is incompatible with subplots_adjust and or tight_layout: setting constrained_layout==False. \n",
      "  fig.tight_layout()\n"
     ]
    },
    {
     "data": {
      "image/png": "[encoded data removed]",
      "text/plain": [
       "<Figure size 720x504 with 5 Axes>"
      ]
     },
     "metadata": {
      "needs_background": "light"
     },
     "output_type": "display_data"
    }
   ],
   "source": [
    "plot5=plotr(\"P-Value\")"
   ]
  },
  {
   "cell_type": "markdown",
   "id": "8703e2ce",
   "metadata": {},
   "source": [
    "**2. How many of the truly skilled funds have insignificant alpha estimates? And how many\n",
    "of the truly unskilled funds are identified as skilled based on significantly positive alpha\n",
    "estimates? For each $\\lambda$ value, report the percentage of funds in each classification**"
   ]
  },
  {
   "cell_type": "code",
   "execution_count": 13,
   "id": "b8d415a7",
   "metadata": {},
   "outputs": [],
   "source": [
    "#Defining a function to create a table similar to the one in the assignment for a given llambda\n",
    "def conf_matrix(llambda):\n",
    "    fundretsnew=fundrets.copy()\n",
    "    alpha_yr=2.5\n",
    "    alpha_mth=2.5/12\n",
    "    for n in range(0,int(N*llambda)): \n",
    "        fundretsnew[n]=fundrets[n]+alpha_mth\n",
    "    \n",
    "#Estimating each fund's alpha and its t-statistic and p-value \n",
    "    tstats=[]\n",
    "    alphas=[]\n",
    "    pvals=[]\n",
    "    for n in range(0,N): \n",
    "        reg=sm.OLS(fundretsnew[n], sm.add_constant(mkt_ts)).fit()\n",
    "        tstats.append(reg.tvalues[0])\n",
    "        alphas.append(reg.params[0])\n",
    "        pvals.append(reg.pvalues[0])\n",
    "    tstats=np.array(tstats)\n",
    "    alphas=np.array(alphas)\n",
    "    pvals=np.array(pvals)\n",
    "    \n",
    "    print(\"Lambda = \", str(llambda))\n",
    "    alldat=pd.DataFrame(data={'Fundno':np.array(range(0,N)), 'tstat':tstats, 'pval':pvals, 'alpha':alphas})\n",
    "    #Pairs are (True, Estimated)\n",
    "    YY=alldat[(alldat[\"Fundno\"]<llambda*N)&(alldat[\"pval\"]<=.05)&(alldat[\"tstat\"]>0)].shape[0]\n",
    "    YN=alldat[(alldat[\"Fundno\"]<llambda*N)&((alldat[\"pval\"]>.05)|(alldat[\"tstat\"]<0))].shape[0]\n",
    "    NY=alldat[(alldat[\"Fundno\"]>=llambda*N)&(alldat[\"pval\"]<=.05)&(alldat[\"tstat\"]>0)].shape[0]\n",
    "    NN=alldat[(alldat[\"Fundno\"]>=llambda*N)&((alldat[\"pval\"]>.05)|(alldat[\"tstat\"]<0))].shape[0]\n",
    "    return pd.DataFrame(np.array([[100*YY/N, 100*YN/N], [100*NY/N,100*NN/N]]),\n",
    "                  index=[[\"True Skill\",\"True Skill\"],['Y', 'N']],\n",
    "                  columns=[[\"Estimated Skill\",\"Estimated Skill\"],['Y', 'N']])"
   ]
  },
  {
   "cell_type": "code",
   "execution_count": 14,
   "id": "87d1460e",
   "metadata": {},
   "outputs": [
    {
     "name": "stdout",
     "output_type": "stream",
     "text": [
      "Lambda =  0.1\n"
     ]
    },
    {
     "data": {
      "text/html": [
       "<div>\n",
       "<style scoped>\n",
       "    .dataframe tbody tr th:only-of-type {\n",
       "        vertical-align: middle;\n",
       "    }\n",
       "\n",
       "    .dataframe tbody tr th {\n",
       "        vertical-align: top;\n",
       "    }\n",
       "\n",
       "    .dataframe thead tr th {\n",
       "        text-align: left;\n",
       "    }\n",
       "</style>\n",
       "<table border=\"1\" class=\"dataframe\">\n",
       "  <thead>\n",
       "    <tr>\n",
       "      <th></th>\n",
       "      <th></th>\n",
       "      <th colspan=\"2\" halign=\"left\">Estimated Skill</th>\n",
       "    </tr>\n",
       "    <tr>\n",
       "      <th></th>\n",
       "      <th></th>\n",
       "      <th>Y</th>\n",
       "      <th>N</th>\n",
       "    </tr>\n",
       "  </thead>\n",
       "  <tbody>\n",
       "    <tr>\n",
       "      <th rowspan=\"2\" valign=\"top\">True Skill</th>\n",
       "      <th>Y</th>\n",
       "      <td>0.9</td>\n",
       "      <td>9.1</td>\n",
       "    </tr>\n",
       "    <tr>\n",
       "      <th>N</th>\n",
       "      <td>2.1</td>\n",
       "      <td>87.9</td>\n",
       "    </tr>\n",
       "  </tbody>\n",
       "</table>\n",
       "</div>"
      ],
      "text/plain": [
       "             Estimated Skill      \n",
       "                           Y     N\n",
       "True Skill Y             0.9   9.1\n",
       "           N             2.1  87.9"
      ]
     },
     "execution_count": 14,
     "metadata": {},
     "output_type": "execute_result"
    }
   ],
   "source": [
    "t1=conf_matrix(.1)\n",
    "t1"
   ]
  },
  {
   "cell_type": "code",
   "execution_count": 15,
   "id": "fd04dc13",
   "metadata": {},
   "outputs": [
    {
     "name": "stdout",
     "output_type": "stream",
     "text": [
      "Lambda =  0.25\n"
     ]
    },
    {
     "data": {
      "text/html": [
       "<div>\n",
       "<style scoped>\n",
       "    .dataframe tbody tr th:only-of-type {\n",
       "        vertical-align: middle;\n",
       "    }\n",
       "\n",
       "    .dataframe tbody tr th {\n",
       "        vertical-align: top;\n",
       "    }\n",
       "\n",
       "    .dataframe thead tr th {\n",
       "        text-align: left;\n",
       "    }\n",
       "</style>\n",
       "<table border=\"1\" class=\"dataframe\">\n",
       "  <thead>\n",
       "    <tr>\n",
       "      <th></th>\n",
       "      <th></th>\n",
       "      <th colspan=\"2\" halign=\"left\">Estimated Skill</th>\n",
       "    </tr>\n",
       "    <tr>\n",
       "      <th></th>\n",
       "      <th></th>\n",
       "      <th>Y</th>\n",
       "      <th>N</th>\n",
       "    </tr>\n",
       "  </thead>\n",
       "  <tbody>\n",
       "    <tr>\n",
       "      <th rowspan=\"2\" valign=\"top\">True Skill</th>\n",
       "      <th>Y</th>\n",
       "      <td>2.2</td>\n",
       "      <td>22.8</td>\n",
       "    </tr>\n",
       "    <tr>\n",
       "      <th>N</th>\n",
       "      <td>1.9</td>\n",
       "      <td>73.1</td>\n",
       "    </tr>\n",
       "  </tbody>\n",
       "</table>\n",
       "</div>"
      ],
      "text/plain": [
       "             Estimated Skill      \n",
       "                           Y     N\n",
       "True Skill Y             2.2  22.8\n",
       "           N             1.9  73.1"
      ]
     },
     "execution_count": 15,
     "metadata": {},
     "output_type": "execute_result"
    }
   ],
   "source": [
    "t2=conf_matrix(.25)\n",
    "t2"
   ]
  },
  {
   "cell_type": "code",
   "execution_count": 16,
   "id": "de95b6f4",
   "metadata": {},
   "outputs": [
    {
     "name": "stdout",
     "output_type": "stream",
     "text": [
      "Lambda =  0.5\n"
     ]
    },
    {
     "data": {
      "text/html": [
       "<div>\n",
       "<style scoped>\n",
       "    .dataframe tbody tr th:only-of-type {\n",
       "        vertical-align: middle;\n",
       "    }\n",
       "\n",
       "    .dataframe tbody tr th {\n",
       "        vertical-align: top;\n",
       "    }\n",
       "\n",
       "    .dataframe thead tr th {\n",
       "        text-align: left;\n",
       "    }\n",
       "</style>\n",
       "<table border=\"1\" class=\"dataframe\">\n",
       "  <thead>\n",
       "    <tr>\n",
       "      <th></th>\n",
       "      <th></th>\n",
       "      <th colspan=\"2\" halign=\"left\">Estimated Skill</th>\n",
       "    </tr>\n",
       "    <tr>\n",
       "      <th></th>\n",
       "      <th></th>\n",
       "      <th>Y</th>\n",
       "      <th>N</th>\n",
       "    </tr>\n",
       "  </thead>\n",
       "  <tbody>\n",
       "    <tr>\n",
       "      <th rowspan=\"2\" valign=\"top\">True Skill</th>\n",
       "      <th>Y</th>\n",
       "      <td>5.6</td>\n",
       "      <td>44.4</td>\n",
       "    </tr>\n",
       "    <tr>\n",
       "      <th>N</th>\n",
       "      <td>0.8</td>\n",
       "      <td>49.2</td>\n",
       "    </tr>\n",
       "  </tbody>\n",
       "</table>\n",
       "</div>"
      ],
      "text/plain": [
       "             Estimated Skill      \n",
       "                           Y     N\n",
       "True Skill Y             5.6  44.4\n",
       "           N             0.8  49.2"
      ]
     },
     "execution_count": 16,
     "metadata": {},
     "output_type": "execute_result"
    }
   ],
   "source": [
    "t3=conf_matrix(.5)\n",
    "t3"
   ]
  },
  {
   "cell_type": "code",
   "execution_count": 17,
   "id": "a6d3ea2a",
   "metadata": {
    "scrolled": false
   },
   "outputs": [
    {
     "name": "stdout",
     "output_type": "stream",
     "text": [
      "Lambda =  0.75\n"
     ]
    },
    {
     "data": {
      "text/html": [
       "<div>\n",
       "<style scoped>\n",
       "    .dataframe tbody tr th:only-of-type {\n",
       "        vertical-align: middle;\n",
       "    }\n",
       "\n",
       "    .dataframe tbody tr th {\n",
       "        vertical-align: top;\n",
       "    }\n",
       "\n",
       "    .dataframe thead tr th {\n",
       "        text-align: left;\n",
       "    }\n",
       "</style>\n",
       "<table border=\"1\" class=\"dataframe\">\n",
       "  <thead>\n",
       "    <tr>\n",
       "      <th></th>\n",
       "      <th></th>\n",
       "      <th colspan=\"2\" halign=\"left\">Estimated Skill</th>\n",
       "    </tr>\n",
       "    <tr>\n",
       "      <th></th>\n",
       "      <th></th>\n",
       "      <th>Y</th>\n",
       "      <th>N</th>\n",
       "    </tr>\n",
       "  </thead>\n",
       "  <tbody>\n",
       "    <tr>\n",
       "      <th rowspan=\"2\" valign=\"top\">True Skill</th>\n",
       "      <th>Y</th>\n",
       "      <td>8.0</td>\n",
       "      <td>67.0</td>\n",
       "    </tr>\n",
       "    <tr>\n",
       "      <th>N</th>\n",
       "      <td>0.4</td>\n",
       "      <td>24.6</td>\n",
       "    </tr>\n",
       "  </tbody>\n",
       "</table>\n",
       "</div>"
      ],
      "text/plain": [
       "             Estimated Skill      \n",
       "                           Y     N\n",
       "True Skill Y             8.0  67.0\n",
       "           N             0.4  24.6"
      ]
     },
     "execution_count": 17,
     "metadata": {},
     "output_type": "execute_result"
    }
   ],
   "source": [
    "t4=conf_matrix(.75)\n",
    "t4"
   ]
  },
  {
   "cell_type": "markdown",
   "id": "6db6b2b4",
   "metadata": {},
   "source": [
    "That concludes the required analyses.  In the rest of the notebook I simply write the results to a latex file, using functions in ```'functionsByAnthony.py'```\n",
    "\n",
    "\n",
    "//////////////////////////////////////////////////////////////////////////////////////////////////////////////////////////////"
   ]
  },
  {
   "cell_type": "code",
   "execution_count": 26,
   "id": "495cc499",
   "metadata": {},
   "outputs": [],
   "source": [
    "#Open the latex output file\n",
    "tabcount=1\n",
    "figcount=1\n",
    "latexopen(\"PS1.tex\", 1)\n",
    "\n",
    "def ctab():\n",
    "    global tabcount\n",
    "    tabcount=tabcount+1\n",
    "    return\n",
    "def cfig():\n",
    "    global figcount\n",
    "    figcount=figcount+1\n",
    "    return\n",
    "\n",
    "latexwrite(\"PS1.tex\",\n",
    "\"\\\\textbf{Part 1 - No Skilled Funds} \\\\\\\\\", pure=True)\n",
    "\n",
    "latexwrite(\"PS1.tex\", \"Figure \"+str(figcount), \"The figure below depicts the distribution of simulated T-statistics associated with alpha. \"+\n",
    "    \"Alpha is estimated with simulated returns which are generated such that true alpha is equal to zero for each of 1000 funds/returns.\")\n",
    "latexplot(plot1, \"PS1.tex\", \"plot1\", '0cm', scale=.8)\n",
    "cfig()\n",
    "latexwrite(\"PS1.tex\", \"Figure \"+str(figcount), \"The figure below depicts the distribution of simulated p-values associated with alpha. \"+\n",
    "    \"Alpha is estimated with simulated returns which are generated such that true alpha is equal to zero for each of 1000 funds/returns.\")\n",
    "latexplot(plot2, \"PS1.tex\", \"plot2\", '0cm', scale=.8)\n",
    "cfig()\n",
    "\n",
    "latexwrite(\"PS1.tex\",\n",
    "\"\\\\textbf{Part 2 - Some Skilled Funds} \\\\\\\\\", pure=True)\n",
    "latexwrite(\"PS1.tex\", \"Figure \"+str(figcount), \"The figure below depicts the distribution of simulated alpha estimates. \"+\n",
    "    \"Returns are simulated such that a fraction $\\\\lambda$ of the funds/returns are truly skilled ($\\\\alpha =5$\\% per annum).\")\n",
    "latexplot(plot3, \"PS1.tex\", \"plot3\", '0cm', scale=.8)\n",
    "cfig()\n",
    "latexwrite(\"PS1.tex\", \"Figure \"+str(figcount), \"The figure below depicts the distribution of simulated T-statistics associated with alpha. \"+\n",
    "    \"Returns are simulated such that a fraction $\\\\lambda$ of the funds/returns are truly skilled ($\\\\alpha =5$\\% per annum).\")\n",
    "latexplot(plot4, \"PS1.tex\", \"plot4\", '0cm', scale=.8)\n",
    "cfig()\n",
    "latexwrite(\"PS1.tex\", \"Figure \"+str(figcount), \"The figure below depicts the distribution of simulated p-values associated with alpha. \"+\n",
    "    \"Returns are simulated such that a fraction $\\\\lambda$ of the funds/returns are truly skilled ($\\\\alpha =5$\\% per annum).\")\n",
    "latexplot(plot5, \"PS1.tex\", \"plot5\", '0cm', scale=.8)\n",
    "cfig()\n",
    "\n",
    "latexwrite(\"PS1.tex\", \"Tables 1-4\", \"The below tables display the perentage of funds falling into each true vs estimated skill \"+\n",
    "    \"category. Returns are simulated such that a fraction $\\\\lambda$ of the funds/returns are truly skilled ($\\\\alpha =5$\\% per annum).  \"+\n",
    "    \"I am not sure why the tables are not appearing on the same page; I need to experiment with this more.\")\n",
    "latextable(t1,\"PS1.tex\", escape=False, newpage=False, title=\"Lambda=.1\")\n",
    "ctab()\n",
    "#latexwrite(\"PS1.tex\", \"Lambda = .25\", pure=True)\n",
    "latextable(t2,\"PS1.tex\", escape=False, newpage=False, title=\"Lambda=.25\")\n",
    "ctab()\n",
    "#latexwrite(\"PS1.tex\", \"Lambda = .5\", pure=True)\n",
    "latextable(t3,\"PS1.tex\", escape=False, newpage=False, title=\"Lambda=.5\")\n",
    "ctab()\n",
    "#latexwrite(\"PS1.tex\", \"Lambda = .75\", pure=True)\n",
    "latextable(t4,\"PS1.tex\", escape=False, newpage=False, title=\"Lambda=.75\")\n",
    "ctab()\n",
    "\n",
    "latexclose(\"PS1.tex\")\n",
    "\n",
    "#compile command: pdflatex -pdf PS1.tex"
   ]
  }
 ],
 "metadata": {
  "kernelspec": {
   "display_name": "Python 3",
   "language": "python",
   "name": "python3"
  },
  "language_info": {
   "codemirror_mode": {
    "name": "ipython",
    "version": 3
   },
   "file_extension": ".py",
   "mimetype": "text/x-python",
   "name": "python",
   "nbconvert_exporter": "python",
   "pygments_lexer": "ipython3",
   "version": "3.8.6"
  }
 },
 "nbformat": 4,
 "nbformat_minor": 5
}
